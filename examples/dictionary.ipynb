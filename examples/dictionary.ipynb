{
 "cells": [
  {
   "cell_type": "markdown",
   "metadata": {
    "collapsed": true
   },
   "source": [
    "### 字典(dictionary)"
   ]
  },
  {
   "cell_type": "code",
   "execution_count": 2,
   "metadata": {},
   "outputs": [],
   "source": [
    "adjs={'affordable': 1,\n",
    " 'comfortable': -1,\n",
    " 'comparable': 1,\n",
    " 'different': 1,\n",
    " 'disappointed': 1,\n",
    " 'fantastic': 1,\n",
    " 'good': 8,\n",
    " 'great': 15,\n",
    " 'happy': 1,\n",
    " 'inexpensive': 1,\n",
    " 'low': 2,\n",
    " 'nice': 1,\n",
    " 'reasonable': 9,\n",
    " 'same': 2,\n",
    " 'small': 1,\n",
    " 'willing': 1}"
   ]
  },
  {
   "cell_type": "markdown",
   "metadata": {},
   "source": [
    "#### 看key \"good\" 對應到的value是什麼"
   ]
  },
  {
   "cell_type": "code",
   "execution_count": 2,
   "metadata": {},
   "outputs": [
    {
     "data": {
      "text/plain": [
       "8"
      ]
     },
     "execution_count": 2,
     "metadata": {},
     "output_type": "execute_result"
    }
   ],
   "source": [
    "adjs['good']"
   ]
  },
  {
   "cell_type": "markdown",
   "metadata": {},
   "source": [
    "檢查字典是否屬於可疊代物件"
   ]
  },
  {
   "cell_type": "code",
   "execution_count": 4,
   "metadata": {},
   "outputs": [
    {
     "data": {
      "text/plain": [
       "True"
      ]
     },
     "execution_count": 4,
     "metadata": {},
     "output_type": "execute_result"
    }
   ],
   "source": [
    "hasattr(adjs,'__iter__')"
   ]
  },
  {
   "cell_type": "markdown",
   "metadata": {},
   "source": [
    "字典可疊代，我們可以用for迴圈來把key抓出來："
   ]
  },
  {
   "cell_type": "code",
   "execution_count": 5,
   "metadata": {},
   "outputs": [
    {
     "name": "stdout",
     "output_type": "stream",
     "text": [
      "affordable\ncomfortable\ncomparable\ndifferent\ndisappointed\nfantastic\ngood\ngreat\nhappy\ninexpensive\nlow\nnice\nreasonable\nsame\nsmall\nwilling\n"
     ]
    }
   ],
   "source": [
    "for adj in adjs:\n",
    "    print(adj)"
   ]
  },
  {
   "cell_type": "markdown",
   "metadata": {},
   "source": [
    "可以順便看與該key相對應的value為何："
   ]
  },
  {
   "cell_type": "code",
   "execution_count": 6,
   "metadata": {},
   "outputs": [
    {
     "name": "stdout",
     "output_type": "stream",
     "text": [
      "affordable 1\ncomfortable -1\ncomparable 1\ndifferent 1\ndisappointed 1\nfantastic 1\ngood 8\ngreat 15\nhappy 1\ninexpensive 1\nlow 2\nnice 1\nreasonable 9\nsame 2\nsmall 1\nwilling 1\n"
     ]
    }
   ],
   "source": [
    "for adj in adjs:\n",
    "    print(adj,adjs[adj])"
   ]
  },
  {
   "cell_type": "markdown",
   "metadata": {},
   "source": [
    "用del 將key \"small\" 刪除："
   ]
  },
  {
   "cell_type": "code",
   "execution_count": 12,
   "metadata": {},
   "outputs": [],
   "source": [
    "del adjs['small']"
   ]
  },
  {
   "cell_type": "code",
   "execution_count": 13,
   "metadata": {},
   "outputs": [
    {
     "data": {
      "text/plain": [
       "{'affordable': 1,\n 'comfortable': -1,\n 'comparable': 1,\n 'different': 1,\n 'disappointed': 1,\n 'fantastic': 1,\n 'good': 8,\n 'great': 15,\n 'happy': 1,\n 'inexpensive': 1,\n 'low': 2,\n 'nice': 1,\n 'reasonable': 9,\n 'same': 2,\n 'willing': 1}"
      ]
     },
     "execution_count": 13,
     "metadata": {},
     "output_type": "execute_result"
    }
   ],
   "source": [
    "adjs"
   ]
  },
  {
   "cell_type": "markdown",
   "metadata": {},
   "source": [
    "增加一個key叫做 'huge'"
   ]
  },
  {
   "cell_type": "code",
   "execution_count": 14,
   "metadata": {},
   "outputs": [],
   "source": [
    "adjs['huge']=30"
   ]
  },
  {
   "cell_type": "code",
   "execution_count": 16,
   "metadata": {},
   "outputs": [
    {
     "data": {
      "text/plain": [
       "{'affordable': 1,\n 'comfortable': -1,\n 'comparable': 1,\n 'different': 1,\n 'disappointed': 1,\n 'fantastic': 1,\n 'good': 8,\n 'great': 15,\n 'happy': 1,\n 'inexpensive': 1,\n 'low': 2,\n 'nice': 1,\n 'reasonable': 9,\n 'same': 2,\n 'small': 1,\n 'willing': 1}"
      ]
     },
     "execution_count": 16,
     "metadata": {},
     "output_type": "execute_result"
    }
   ],
   "source": [
    "adjs"
   ]
  },
  {
   "cell_type": "markdown",
   "metadata": {},
   "source": [
    "以update()增加多個key:"
   ]
  },
  {
   "cell_type": "code",
   "execution_count": 23,
   "metadata": {},
   "outputs": [],
   "source": [
    "adjs.update({'terrible': 30, 'miserable': 30})"
   ]
  },
  {
   "cell_type": "code",
   "execution_count": 24,
   "metadata": {},
   "outputs": [
    {
     "data": {
      "text/plain": [
       "dict_items([('affordable', 1), ('comfortable', -1), ('comparable', 1), ('different', 1), ('disappointed', 1), ('fantastic', 1), ('good', 8), ('great', 15), ('happy', 1), ('inexpensive', 1), ('low', 2), ('nice', 1), ('reasonable', 9), ('same', 2), ('small', 1), ('willing', 1), ('terrible', 30), ('miserable', 30)])"
      ]
     },
     "execution_count": 24,
     "metadata": {},
     "output_type": "execute_result"
    }
   ],
   "source": [
    "adjs.items()"
   ]
  },
  {
   "cell_type": "code",
   "execution_count": 27,
   "metadata": {},
   "outputs": [
    {
     "data": {
      "text/plain": [
       "dict_keys(['affordable', 'comfortable', 'comparable', 'different', 'disappointed', 'fantastic', 'good', 'great', 'happy', 'inexpensive', 'low', 'nice', 'reasonable', 'same', 'willing', 'huge'])"
      ]
     },
     "execution_count": 27,
     "metadata": {},
     "output_type": "execute_result"
    }
   ],
   "source": [
    "adjs.keys()"
   ]
  },
  {
   "cell_type": "code",
   "execution_count": 8,
   "metadata": {},
   "outputs": [
    {
     "data": {
      "text/plain": [
       "dict_values([1, -1, 1, 1, 1, 1, 8, 15, 1, 1, 2, 1, 9, 2, 1, 1])"
      ]
     },
     "execution_count": 8,
     "metadata": {},
     "output_type": "execute_result"
    }
   ],
   "source": [
    "adjs.values()"
   ]
  },
  {
   "cell_type": "markdown",
   "metadata": {},
   "source": [
    "以上dict_items, dict_keys, dict_values可轉型為list。例如："
   ]
  },
  {
   "cell_type": "code",
   "execution_count": 9,
   "metadata": {},
   "outputs": [
    {
     "data": {
      "text/plain": [
       "[1, -1, 1, 1, 1, 1, 8, 15, 1, 1, 2, 1, 9, 2, 1, 1]"
      ]
     },
     "execution_count": 9,
     "metadata": {},
     "output_type": "execute_result"
    }
   ],
   "source": [
    "list( adjs.values() )"
   ]
  },
  {
   "cell_type": "markdown",
   "metadata": {},
   "source": [
    "但若無必要則不需轉成list，因為轉成list會造成記憶體的浪費。"
   ]
  },
  {
   "cell_type": "markdown",
   "metadata": {},
   "source": [
    "### 將字典畫圖"
   ]
  },
  {
   "cell_type": "code",
   "execution_count": 18,
   "metadata": {},
   "outputs": [],
   "source": [
    "import pandas as pd\n",
    "%matplotlib inline"
   ]
  },
  {
   "cell_type": "code",
   "execution_count": 19,
   "metadata": {},
   "outputs": [
    {
     "data": {
      "text/plain": [
       "affordable       1\ncomfortable     -1\ncomparable       1\ndifferent        1\ndisappointed     1\nfantastic        1\ngood             8\ngreat           15\nhappy            1\ninexpensive      1\nlow              2\nnice             1\nreasonable       9\nsame             2\nsmall            1\nwilling          1\ndtype: int64"
      ]
     },
     "execution_count": 19,
     "metadata": {},
     "output_type": "execute_result"
    }
   ],
   "source": [
    "pd.Series(adjs)"
   ]
  },
  {
   "cell_type": "code",
   "execution_count": 20,
   "metadata": {},
   "outputs": [],
   "source": [
    "wCount=pd.Series(adjs)"
   ]
  },
  {
   "cell_type": "code",
   "execution_count": 21,
   "metadata": {},
   "outputs": [
    {
     "data": {
      "text/plain": [
       "<matplotlib.axes._subplots.AxesSubplot at 0x11128e908>"
      ]
     },
     "execution_count": 21,
     "metadata": {},
     "output_type": "execute_result"
    },
    {
     "data": {
      "image/png": "[encoded data removed]",
      "text/plain": [
       "<matplotlib.figure.Figure at 0x1111fbf98>"
      ]
     },
     "metadata": {},
     "output_type": "display_data"
    }
   ],
   "source": [
    "wCount.plot.bar()"
   ]
  },
  {
   "cell_type": "markdown",
   "metadata": {},
   "source": [
    "當資料變成Pandas資料表以後，可以各種方式視覺化呈現。(盒鬚圖，圓餅圖，長條圖，...)詳見官方說明：\n",
    "http://pandas.pydata.org/pandas-docs/stable/visualization.html"
   ]
  },
  {
   "cell_type": "code",
   "execution_count": null,
   "metadata": {},
   "outputs": [],
   "source": [
    ""
   ]
  }
 ],
 "metadata": {
  "kernelspec": {
   "display_name": "Python 2",
   "language": "python",
   "name": "python2"
  },
  "language_info": {
   "codemirror_mode": {
    "name": "ipython",
    "version": 2.0
   },
   "file_extension": ".py",
   "mimetype": "text/x-python",
   "name": "python",
   "nbconvert_exporter": "python",
   "pygments_lexer": "ipython2",
   "version": "2.7.6"
  }
 },
 "nbformat": 4,
 "nbformat_minor": 0
}