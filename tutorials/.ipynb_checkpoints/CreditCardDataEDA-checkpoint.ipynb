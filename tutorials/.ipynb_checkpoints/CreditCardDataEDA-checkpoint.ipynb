{
 "cells": [
  {
   "cell_type": "markdown",
   "metadata": {
    "deletable": true,
    "editable": true
   },
   "source": [
    "# 這個筆記本的目地是探索政府公開的信用卡消費資料集：\n",
    "\n",
    "# 各年齡層持卡人於十六縣消費樣態(http://data.gov.tw/node/38320)\n",
    "\n",
    "1. <a href= #01>認識並整理資料</a>\n",
    "2. <a href= #02>備註：建立與解除索引</a>\n",
    "3. <a href= #03>我們已經了解了如何製作食品餐飲類的資料表。現在，我們要將七大類各別做成一個資料表，然後將它們連結起來，成為一個最終資料表</a>\n",
    "4. <a href= #04>畫盒鬚圖，以了解不同縣市下，各年齡層的消費狀況</a>\n",
    "5. <a href= #05>畫散佈圖來了解不同縣市下，商品數量和商品價格的關係</a>\n",
    "6. <a href= #06>繼續畫散佈圖，目的是了解於不同月份下，商品數和商品價格的關係</a>\n",
    "7. <a href= #07>不同商品類型底下，商品數和商品價格的關係</a>"
   ]
  },
  {
   "cell_type": "markdown",
   "metadata": {
    "deletable": true,
    "editable": true
   },
   "source": [
    "---"
   ]
  },
  {
   "cell_type": "code",
   "execution_count": 1,
   "metadata": {
    "collapsed": true,
    "deletable": true,
    "editable": true
   },
   "outputs": [],
   "source": [
    "import pandas as pd\n",
    "import matplotlib.pyplot as plt\n",
    "import numpy as np\n",
    "import seaborn as sns\n",
    "from IPython.display import display\n",
    "%matplotlib inline"
   ]
  },
  {
   "cell_type": "markdown",
   "metadata": {
    "deletable": true,
    "editable": true
   },
   "source": [
    "### <a id=\"01\"/>認識並整理資料"
   ]
  },
  {
   "cell_type": "code",
   "execution_count": 2,
   "metadata": {
    "collapsed": false,
    "deletable": true,
    "editable": true
   },
   "outputs": [],
   "source": [
    "df=pd.DataFrame.from_csv('../datasets/BANK_LOC_ALL_AG.csv',sep=';',encoding='utf8',index_col=['年月','地區'])"
   ]
  },
  {
   "cell_type": "code",
   "execution_count": 3,
   "metadata": {
    "collapsed": false,
    "deletable": true,
    "editable": true
   },
   "outputs": [
    {
     "data": {
      "text/html": [
       "<div>\n",
       "<table border=\"1\" class=\"dataframe\">\n",
       "  <thead>\n",
       "    <tr style=\"text-align: right;\">\n",
       "      <th></th>\n",
       "      <th></th>\n",
       "      <th>食品餐飲類未滿20(筆數)</th>\n",
       "      <th>食品餐飲類未滿20(金額，新台幣)</th>\n",
       "      <th>衣著飾品類未滿20(筆數)</th>\n",
       "      <th>衣著飾品類未滿20(金額，新台幣)</th>\n",
       "      <th>旅館住宿類未滿20(筆數)</th>\n",
       "      <th>旅館住宿類未滿20(金額，新台幣)</th>\n",
       "      <th>交通類未滿20(筆數)</th>\n",
       "      <th>交通類未滿20(金額，新台幣)</th>\n",
       "      <th>文教康樂類未滿20(筆數)</th>\n",
       "      <th>文教康樂類未滿20(金額，新台幣)</th>\n",
       "      <th>...</th>\n",
       "      <th>旅館住宿類80(含)以上(筆數)</th>\n",
       "      <th>旅館住宿類80(含)以上(金額，新台幣)</th>\n",
       "      <th>交通類80(含)以上(筆數)</th>\n",
       "      <th>交通類80(含)以上(金額，新台幣)</th>\n",
       "      <th>文教康樂類80(含)以上(筆數)</th>\n",
       "      <th>文教康樂類80(含)以上(金額，新台幣)</th>\n",
       "      <th>百貨類80(含)以上(筆數)</th>\n",
       "      <th>百貨類80(含)以上(金額，新台幣)</th>\n",
       "      <th>其他類80(含)以上(筆數)</th>\n",
       "      <th>其他類80(含)以上(金額，新台幣)</th>\n",
       "    </tr>\n",
       "    <tr>\n",
       "      <th>年月</th>\n",
       "      <th>地區</th>\n",
       "      <th></th>\n",
       "      <th></th>\n",
       "      <th></th>\n",
       "      <th></th>\n",
       "      <th></th>\n",
       "      <th></th>\n",
       "      <th></th>\n",
       "      <th></th>\n",
       "      <th></th>\n",
       "      <th></th>\n",
       "      <th></th>\n",
       "      <th></th>\n",
       "      <th></th>\n",
       "      <th></th>\n",
       "      <th></th>\n",
       "      <th></th>\n",
       "      <th></th>\n",
       "      <th></th>\n",
       "      <th></th>\n",
       "      <th></th>\n",
       "      <th></th>\n",
       "    </tr>\n",
       "  </thead>\n",
       "  <tbody>\n",
       "    <tr>\n",
       "      <th>105年04月</th>\n",
       "      <th>基隆市</th>\n",
       "      <td>82</td>\n",
       "      <td>62383</td>\n",
       "      <td>46</td>\n",
       "      <td>99368</td>\n",
       "      <td>24</td>\n",
       "      <td>43292</td>\n",
       "      <td>80</td>\n",
       "      <td>31904</td>\n",
       "      <td>26</td>\n",
       "      <td>31098</td>\n",
       "      <td>...</td>\n",
       "      <td>16</td>\n",
       "      <td>155925</td>\n",
       "      <td>42</td>\n",
       "      <td>19852</td>\n",
       "      <td>19</td>\n",
       "      <td>55310</td>\n",
       "      <td>9</td>\n",
       "      <td>32820</td>\n",
       "      <td>19</td>\n",
       "      <td>87769</td>\n",
       "    </tr>\n",
       "    <tr>\n",
       "      <th>105年05月</th>\n",
       "      <th>基隆市</th>\n",
       "      <td>90</td>\n",
       "      <td>94772</td>\n",
       "      <td>48</td>\n",
       "      <td>116160</td>\n",
       "      <td>32</td>\n",
       "      <td>114704</td>\n",
       "      <td>110</td>\n",
       "      <td>84820</td>\n",
       "      <td>32</td>\n",
       "      <td>66925</td>\n",
       "      <td>...</td>\n",
       "      <td>17</td>\n",
       "      <td>174539</td>\n",
       "      <td>50</td>\n",
       "      <td>33233</td>\n",
       "      <td>16</td>\n",
       "      <td>110448</td>\n",
       "      <td>9</td>\n",
       "      <td>40500</td>\n",
       "      <td>29</td>\n",
       "      <td>92074</td>\n",
       "    </tr>\n",
       "    <tr>\n",
       "      <th>105年06月</th>\n",
       "      <th>基隆市</th>\n",
       "      <td>71</td>\n",
       "      <td>68798</td>\n",
       "      <td>36</td>\n",
       "      <td>60694</td>\n",
       "      <td>20</td>\n",
       "      <td>43683</td>\n",
       "      <td>99</td>\n",
       "      <td>170113</td>\n",
       "      <td>22</td>\n",
       "      <td>21724</td>\n",
       "      <td>...</td>\n",
       "      <td>13</td>\n",
       "      <td>77867</td>\n",
       "      <td>42</td>\n",
       "      <td>39710</td>\n",
       "      <td>12</td>\n",
       "      <td>136384</td>\n",
       "      <td>3</td>\n",
       "      <td>2122</td>\n",
       "      <td>28</td>\n",
       "      <td>627815</td>\n",
       "    </tr>\n",
       "  </tbody>\n",
       "</table>\n",
       "<p>3 rows × 196 columns</p>\n",
       "</div>"
      ],
      "text/plain": [
       "             食品餐飲類未滿20(筆數)  食品餐飲類未滿20(金額，新台幣)  衣著飾品類未滿20(筆數)  \\\n",
       "年月      地區                                                     \n",
       "105年04月 基隆市             82              62383             46   \n",
       "105年05月 基隆市             90              94772             48   \n",
       "105年06月 基隆市             71              68798             36   \n",
       "\n",
       "             衣著飾品類未滿20(金額，新台幣)  旅館住宿類未滿20(筆數)  旅館住宿類未滿20(金額，新台幣)  交通類未滿20(筆數)  \\\n",
       "年月      地區                                                                      \n",
       "105年04月 基隆市              99368             24              43292           80   \n",
       "105年05月 基隆市             116160             32             114704          110   \n",
       "105年06月 基隆市              60694             20              43683           99   \n",
       "\n",
       "             交通類未滿20(金額，新台幣)  文教康樂類未滿20(筆數)  文教康樂類未滿20(金額，新台幣)  \\\n",
       "年月      地區                                                       \n",
       "105年04月 基隆市            31904             26              31098   \n",
       "105年05月 基隆市            84820             32              66925   \n",
       "105年06月 基隆市           170113             22              21724   \n",
       "\n",
       "                    ...          旅館住宿類80(含)以上(筆數)  旅館住宿類80(含)以上(金額，新台幣)  \\\n",
       "年月      地區          ...                                                   \n",
       "105年04月 基隆市         ...                        16                155925   \n",
       "105年05月 基隆市         ...                        17                174539   \n",
       "105年06月 基隆市         ...                        13                 77867   \n",
       "\n",
       "             交通類80(含)以上(筆數)  交通類80(含)以上(金額，新台幣)  文教康樂類80(含)以上(筆數)  \\\n",
       "年月      地區                                                          \n",
       "105年04月 基隆市              42               19852                19   \n",
       "105年05月 基隆市              50               33233                16   \n",
       "105年06月 基隆市              42               39710                12   \n",
       "\n",
       "             文教康樂類80(含)以上(金額，新台幣)  百貨類80(含)以上(筆數)  百貨類80(含)以上(金額，新台幣)  \\\n",
       "年月      地區                                                              \n",
       "105年04月 基隆市                 55310               9               32820   \n",
       "105年05月 基隆市                110448               9               40500   \n",
       "105年06月 基隆市                136384               3                2122   \n",
       "\n",
       "             其他類80(含)以上(筆數)  其他類80(含)以上(金額，新台幣)  \n",
       "年月      地區                                       \n",
       "105年04月 基隆市              19               87769  \n",
       "105年05月 基隆市              29               92074  \n",
       "105年06月 基隆市              28              627815  \n",
       "\n",
       "[3 rows x 196 columns]"
      ]
     },
     "execution_count": 3,
     "metadata": {},
     "output_type": "execute_result"
    }
   ],
   "source": [
    "df.head(3)"
   ]
  },
  {
   "cell_type": "markdown",
   "metadata": {
    "deletable": true,
    "editable": true
   },
   "source": [
    "先了解一下各欄位"
   ]
  },
  {
   "cell_type": "markdown",
   "metadata": {
    "deletable": true,
    "editable": true
   },
   "source": [
    "* 年齡區段：[0-20), [20,25),[25,30),....[75-80),[80-)。共$1+6\\times2+1=14$個年齡區間。\n",
    "* 類別：食品餐飲，衣著飾品，旅館住宿，交通，文教康樂，百貨，其他。共7類。\n",
    "* 一個年齡區段和一個類別之下，含有兩筆記錄，分別是交易比數，和交易金額。\n",
    "* 縣市共有16個。\n",
    "* 時間為105年4月到9月，共六個月。\n",
    "* 欄位共有$14\\times7\\times2+2$(某年月某地區)=198個。"
   ]
  },
  {
   "cell_type": "markdown",
   "metadata": {
    "deletable": true,
    "editable": true
   },
   "source": [
    "由於該資料表欄位過多，因此在進行分析前，我希望先行整理此資料表。以下將進行資料表的整理。以下我們先試著先整理出食品餐飲類的資料"
   ]
  },
  {
   "cell_type": "code",
   "execution_count": 4,
   "metadata": {
    "collapsed": false,
    "deletable": true,
    "editable": true
   },
   "outputs": [],
   "source": [
    "colInd=[j for j in range(0,196,14)]"
   ]
  },
  {
   "cell_type": "code",
   "execution_count": 5,
   "metadata": {
    "collapsed": false,
    "deletable": true,
    "editable": true
   },
   "outputs": [
    {
     "data": {
      "text/plain": [
       "[0, 14, 28, 42, 56, 70, 84, 98, 112, 126, 140, 154, 168, 182]"
      ]
     },
     "execution_count": 5,
     "metadata": {},
     "output_type": "execute_result"
    }
   ],
   "source": [
    "colInd"
   ]
  },
  {
   "cell_type": "code",
   "execution_count": 6,
   "metadata": {
    "collapsed": false,
    "deletable": true,
    "editable": true,
    "scrolled": true
   },
   "outputs": [
    {
     "data": {
      "text/plain": [
       "食品餐飲類未滿20(筆數)           82.0\n",
       "食品餐飲類20(含)-25(筆數)     1549.0\n",
       "食品餐飲類25(含)-30(筆數)     4082.0\n",
       "食品餐飲類30(含)-35(筆數)     6648.0\n",
       "食品餐飲類35(含)-40(筆數)     9642.0\n",
       "食品餐飲類40(含)-45(筆數)    10497.0\n",
       "食品餐飲類45(含)-50(筆數)    11732.0\n",
       "食品餐飲類50(含)-55(筆數)    10502.0\n",
       "食品餐飲類55(含)-60(筆數)     8185.0\n",
       "食品餐飲類60(含)-65(筆數)     6380.0\n",
       "食品餐飲類65(含)-70(筆數)     2878.0\n",
       "食品餐飲類70(含)-75(筆數)      935.0\n",
       "食品餐飲類75(含)-80(筆數)      302.0\n",
       "食品餐飲類80(含)以上(筆數)       174.0\n",
       "Name: (105年04月, 基隆市), dtype: float64"
      ]
     },
     "execution_count": 6,
     "metadata": {},
     "output_type": "execute_result"
    }
   ],
   "source": [
    "df.iloc[0,colInd]"
   ]
  },
  {
   "cell_type": "code",
   "execution_count": 7,
   "metadata": {
    "collapsed": true,
    "deletable": true,
    "editable": true
   },
   "outputs": [],
   "source": [
    "def transf(x,*args):\n",
    "    return x[list(args)]"
   ]
  },
  {
   "cell_type": "markdown",
   "metadata": {
    "deletable": true,
    "editable": true
   },
   "source": [
    "建立表s1, 存放消費筆數"
   ]
  },
  {
   "cell_type": "code",
   "execution_count": 8,
   "metadata": {
    "collapsed": false,
    "deletable": true,
    "editable": true
   },
   "outputs": [],
   "source": [
    "s1=df.apply(transf,axis=1,args=[j for j in range(0,196,14)])\n",
    "s1.columns=['0-20','20-25','25-30','30-35','35-40','40-45','45-50','50-55','55-60','60-65','65-70','70-75','75-80','80-']"
   ]
  },
  {
   "cell_type": "markdown",
   "metadata": {
    "deletable": true,
    "editable": true
   },
   "source": [
    "建立表s2, 存放消費金額"
   ]
  },
  {
   "cell_type": "code",
   "execution_count": 9,
   "metadata": {
    "collapsed": false,
    "deletable": true,
    "editable": true
   },
   "outputs": [],
   "source": [
    "s2=df.apply(transf,axis=1,args=[j for j in range(1,196,14)])\n",
    "s2.columns=['0-20','20-25','25-30','30-35','35-40','40-45','45-50','50-55','55-60','60-65','65-70','70-75','75-80','80-']"
   ]
  },
  {
   "cell_type": "code",
   "execution_count": 10,
   "metadata": {
    "collapsed": false,
    "deletable": true,
    "editable": true
   },
   "outputs": [
    {
     "data": {
      "text/plain": [
       "MultiIndex(levels=[['105年04月', '105年05月', '105年06月', '105年07月', '105年08月', '105年09月'], ['南投縣', '台東縣', '嘉義市', '嘉義縣', '基隆市', '宜蘭縣', '屏東縣', '彰化縣', '新竹市', '新竹縣', '澎湖縣', '花蓮縣', '苗栗縣', '連江縣', '金門縣', '雲林縣']],\n",
       "           labels=[[0, 1, 2, 3, 4, 5, 0, 1, 2, 3, 4, 5, 0, 1, 2, 3, 4, 5, 0, 1, 2, 3, 4, 5, 0, 1, 2, 3, 4, 5, 0, 1, 2, 3, 4, 5, 0, 1, 2, 3, 4, 5, 0, 1, 2, 3, 4, 5, 0, 1, 2, 3, 4, 5, 0, 1, 2, 3, 4, 5, 0, 1, 2, 3, 4, 5, 0, 1, 2, 3, 4, 5, 0, 1, 2, 3, 4, 5, 0, 1, 2, 3, 4, 5, 0, 1, 2, 3, 4, 5, 0, 1, 2, 3, 4, 5], [4, 4, 4, 4, 4, 4, 8, 8, 8, 8, 8, 8, 9, 9, 9, 9, 9, 9, 12, 12, 12, 12, 12, 12, 7, 7, 7, 7, 7, 7, 0, 0, 0, 0, 0, 0, 15, 15, 15, 15, 15, 15, 2, 2, 2, 2, 2, 2, 3, 3, 3, 3, 3, 3, 6, 6, 6, 6, 6, 6, 5, 5, 5, 5, 5, 5, 11, 11, 11, 11, 11, 11, 1, 1, 1, 1, 1, 1, 10, 10, 10, 10, 10, 10, 14, 14, 14, 14, 14, 14, 13, 13, 13, 13, 13, 13]],\n",
       "           names=['年月', '地區'])"
      ]
     },
     "execution_count": 10,
     "metadata": {},
     "output_type": "execute_result"
    }
   ],
   "source": [
    "s1.index"
   ]
  },
  {
   "cell_type": "code",
   "execution_count": 11,
   "metadata": {
    "collapsed": false,
    "deletable": true,
    "editable": true
   },
   "outputs": [
    {
     "data": {
      "text/html": [
       "<div>\n",
       "<table border=\"1\" class=\"dataframe\">\n",
       "  <thead>\n",
       "    <tr style=\"text-align: right;\">\n",
       "      <th></th>\n",
       "      <th></th>\n",
       "      <th>0-20</th>\n",
       "      <th>20-25</th>\n",
       "      <th>25-30</th>\n",
       "      <th>30-35</th>\n",
       "      <th>35-40</th>\n",
       "      <th>40-45</th>\n",
       "      <th>45-50</th>\n",
       "      <th>50-55</th>\n",
       "      <th>55-60</th>\n",
       "      <th>60-65</th>\n",
       "      <th>65-70</th>\n",
       "      <th>70-75</th>\n",
       "      <th>75-80</th>\n",
       "      <th>80-</th>\n",
       "    </tr>\n",
       "    <tr>\n",
       "      <th>年月</th>\n",
       "      <th>地區</th>\n",
       "      <th></th>\n",
       "      <th></th>\n",
       "      <th></th>\n",
       "      <th></th>\n",
       "      <th></th>\n",
       "      <th></th>\n",
       "      <th></th>\n",
       "      <th></th>\n",
       "      <th></th>\n",
       "      <th></th>\n",
       "      <th></th>\n",
       "      <th></th>\n",
       "      <th></th>\n",
       "      <th></th>\n",
       "    </tr>\n",
       "  </thead>\n",
       "  <tbody>\n",
       "    <tr>\n",
       "      <th>105年04月</th>\n",
       "      <th>基隆市</th>\n",
       "      <td>82.0</td>\n",
       "      <td>1549.0</td>\n",
       "      <td>4082.0</td>\n",
       "      <td>6648.0</td>\n",
       "      <td>9642.0</td>\n",
       "      <td>10497.0</td>\n",
       "      <td>11732.0</td>\n",
       "      <td>10502.0</td>\n",
       "      <td>8185.0</td>\n",
       "      <td>6380.0</td>\n",
       "      <td>2878.0</td>\n",
       "      <td>935.0</td>\n",
       "      <td>302.0</td>\n",
       "      <td>174.0</td>\n",
       "    </tr>\n",
       "    <tr>\n",
       "      <th>105年05月</th>\n",
       "      <th>基隆市</th>\n",
       "      <td>90.0</td>\n",
       "      <td>1740.0</td>\n",
       "      <td>4578.0</td>\n",
       "      <td>7328.0</td>\n",
       "      <td>10488.0</td>\n",
       "      <td>11375.0</td>\n",
       "      <td>12620.0</td>\n",
       "      <td>11137.0</td>\n",
       "      <td>9107.0</td>\n",
       "      <td>6871.0</td>\n",
       "      <td>3366.0</td>\n",
       "      <td>1019.0</td>\n",
       "      <td>381.0</td>\n",
       "      <td>180.0</td>\n",
       "    </tr>\n",
       "    <tr>\n",
       "      <th>105年06月</th>\n",
       "      <th>基隆市</th>\n",
       "      <td>71.0</td>\n",
       "      <td>1420.0</td>\n",
       "      <td>3833.0</td>\n",
       "      <td>6336.0</td>\n",
       "      <td>9051.0</td>\n",
       "      <td>10018.0</td>\n",
       "      <td>10654.0</td>\n",
       "      <td>10143.0</td>\n",
       "      <td>8161.0</td>\n",
       "      <td>6327.0</td>\n",
       "      <td>3008.0</td>\n",
       "      <td>904.0</td>\n",
       "      <td>332.0</td>\n",
       "      <td>138.0</td>\n",
       "    </tr>\n",
       "  </tbody>\n",
       "</table>\n",
       "</div>"
      ],
      "text/plain": [
       "             0-20   20-25   25-30   30-35    35-40    40-45    45-50    50-55  \\\n",
       "年月      地區                                                                      \n",
       "105年04月 基隆市  82.0  1549.0  4082.0  6648.0   9642.0  10497.0  11732.0  10502.0   \n",
       "105年05月 基隆市  90.0  1740.0  4578.0  7328.0  10488.0  11375.0  12620.0  11137.0   \n",
       "105年06月 基隆市  71.0  1420.0  3833.0  6336.0   9051.0  10018.0  10654.0  10143.0   \n",
       "\n",
       "              55-60   60-65   65-70   70-75  75-80    80-  \n",
       "年月      地區                                                 \n",
       "105年04月 基隆市  8185.0  6380.0  2878.0   935.0  302.0  174.0  \n",
       "105年05月 基隆市  9107.0  6871.0  3366.0  1019.0  381.0  180.0  \n",
       "105年06月 基隆市  8161.0  6327.0  3008.0   904.0  332.0  138.0  "
      ]
     },
     "execution_count": 11,
     "metadata": {},
     "output_type": "execute_result"
    }
   ],
   "source": [
    "s1.head(3)"
   ]
  },
  {
   "cell_type": "code",
   "execution_count": 12,
   "metadata": {
    "collapsed": true,
    "deletable": true,
    "editable": true
   },
   "outputs": [],
   "source": [
    "idx=pd.MultiIndex(levels=[['食品餐飲'],['105年04月', '105年05月', '105年06月', '105年07月', '105年08月', '105年09月'], ['南投縣', '台東縣', '嘉義市', '嘉義縣', '基隆市', '宜蘭縣', '屏東縣', '彰化縣', '新竹市', '新竹縣', '澎湖縣', '花蓮縣', '苗栗縣', '連江縣', '金門縣', '雲林縣']],\n",
    "           labels=[[0]*96,[0, 1, 2, 3, 4, 5, 0, 1, 2, 3, 4, 5, 0, 1, 2, 3, 4, 5, 0, 1, 2, 3, 4, 5, 0, 1, 2, 3, 4, 5, 0, 1, 2, 3, 4, 5, 0, 1, 2, 3, 4, 5, 0, 1, 2, 3, 4, 5, 0, 1, 2, 3, 4, 5, 0, 1, 2, 3, 4, 5, 0, 1, 2, 3, 4, 5, 0, 1, 2, 3, 4, 5, 0, 1, 2, 3, 4, 5, 0, 1, 2, 3, 4, 5, 0, 1, 2, 3, 4, 5, 0, 1, 2, 3, 4, 5], [4, 4, 4, 4, 4, 4, 8, 8, 8, 8, 8, 8, 9, 9, 9, 9, 9, 9, 12, 12, 12, 12, 12, 12, 7, 7, 7, 7, 7, 7, 0, 0, 0, 0, 0, 0, 15, 15, 15, 15, 15, 15, 2, 2, 2, 2, 2, 2, 3, 3, 3, 3, 3, 3, 6, 6, 6, 6, 6, 6, 5, 5, 5, 5, 5, 5, 11, 11, 11, 11, 11, 11, 1, 1, 1, 1, 1, 1, 10, 10, 10, 10, 10, 10, 14, 14, 14, 14, 14, 14, 13, 13, 13, 13, 13, 13]],\n",
    "           names=['類別','年月', '地區'])"
   ]
  },
  {
   "cell_type": "code",
   "execution_count": 13,
   "metadata": {
    "collapsed": false,
    "deletable": true,
    "editable": true
   },
   "outputs": [],
   "source": [
    "s1.index,s2.index=idx,idx"
   ]
  },
  {
   "cell_type": "code",
   "execution_count": 14,
   "metadata": {
    "collapsed": false,
    "deletable": true,
    "editable": true
   },
   "outputs": [
    {
     "data": {
      "text/html": [
       "<div>\n",
       "<table border=\"1\" class=\"dataframe\">\n",
       "  <thead>\n",
       "    <tr style=\"text-align: right;\">\n",
       "      <th></th>\n",
       "      <th></th>\n",
       "      <th></th>\n",
       "      <th>0-20</th>\n",
       "      <th>20-25</th>\n",
       "      <th>25-30</th>\n",
       "      <th>30-35</th>\n",
       "      <th>35-40</th>\n",
       "      <th>40-45</th>\n",
       "      <th>45-50</th>\n",
       "      <th>50-55</th>\n",
       "      <th>55-60</th>\n",
       "      <th>60-65</th>\n",
       "      <th>65-70</th>\n",
       "      <th>70-75</th>\n",
       "      <th>75-80</th>\n",
       "      <th>80-</th>\n",
       "    </tr>\n",
       "    <tr>\n",
       "      <th>類別</th>\n",
       "      <th>年月</th>\n",
       "      <th>地區</th>\n",
       "      <th></th>\n",
       "      <th></th>\n",
       "      <th></th>\n",
       "      <th></th>\n",
       "      <th></th>\n",
       "      <th></th>\n",
       "      <th></th>\n",
       "      <th></th>\n",
       "      <th></th>\n",
       "      <th></th>\n",
       "      <th></th>\n",
       "      <th></th>\n",
       "      <th></th>\n",
       "      <th></th>\n",
       "    </tr>\n",
       "  </thead>\n",
       "  <tbody>\n",
       "    <tr>\n",
       "      <th rowspan=\"3\" valign=\"top\">食品餐飲</th>\n",
       "      <th>105年04月</th>\n",
       "      <th>基隆市</th>\n",
       "      <td>82.0</td>\n",
       "      <td>1549.0</td>\n",
       "      <td>4082.0</td>\n",
       "      <td>6648.0</td>\n",
       "      <td>9642.0</td>\n",
       "      <td>10497.0</td>\n",
       "      <td>11732.0</td>\n",
       "      <td>10502.0</td>\n",
       "      <td>8185.0</td>\n",
       "      <td>6380.0</td>\n",
       "      <td>2878.0</td>\n",
       "      <td>935.0</td>\n",
       "      <td>302.0</td>\n",
       "      <td>174.0</td>\n",
       "    </tr>\n",
       "    <tr>\n",
       "      <th>105年05月</th>\n",
       "      <th>基隆市</th>\n",
       "      <td>90.0</td>\n",
       "      <td>1740.0</td>\n",
       "      <td>4578.0</td>\n",
       "      <td>7328.0</td>\n",
       "      <td>10488.0</td>\n",
       "      <td>11375.0</td>\n",
       "      <td>12620.0</td>\n",
       "      <td>11137.0</td>\n",
       "      <td>9107.0</td>\n",
       "      <td>6871.0</td>\n",
       "      <td>3366.0</td>\n",
       "      <td>1019.0</td>\n",
       "      <td>381.0</td>\n",
       "      <td>180.0</td>\n",
       "    </tr>\n",
       "    <tr>\n",
       "      <th>105年06月</th>\n",
       "      <th>基隆市</th>\n",
       "      <td>71.0</td>\n",
       "      <td>1420.0</td>\n",
       "      <td>3833.0</td>\n",
       "      <td>6336.0</td>\n",
       "      <td>9051.0</td>\n",
       "      <td>10018.0</td>\n",
       "      <td>10654.0</td>\n",
       "      <td>10143.0</td>\n",
       "      <td>8161.0</td>\n",
       "      <td>6327.0</td>\n",
       "      <td>3008.0</td>\n",
       "      <td>904.0</td>\n",
       "      <td>332.0</td>\n",
       "      <td>138.0</td>\n",
       "    </tr>\n",
       "  </tbody>\n",
       "</table>\n",
       "</div>"
      ],
      "text/plain": [
       "                  0-20   20-25   25-30   30-35    35-40    40-45    45-50  \\\n",
       "類別   年月      地區                                                             \n",
       "食品餐飲 105年04月 基隆市  82.0  1549.0  4082.0  6648.0   9642.0  10497.0  11732.0   \n",
       "     105年05月 基隆市  90.0  1740.0  4578.0  7328.0  10488.0  11375.0  12620.0   \n",
       "     105年06月 基隆市  71.0  1420.0  3833.0  6336.0   9051.0  10018.0  10654.0   \n",
       "\n",
       "                    50-55   55-60   60-65   65-70   70-75  75-80    80-  \n",
       "類別   年月      地區                                                          \n",
       "食品餐飲 105年04月 基隆市  10502.0  8185.0  6380.0  2878.0   935.0  302.0  174.0  \n",
       "     105年05月 基隆市  11137.0  9107.0  6871.0  3366.0  1019.0  381.0  180.0  \n",
       "     105年06月 基隆市  10143.0  8161.0  6327.0  3008.0   904.0  332.0  138.0  "
      ]
     },
     "execution_count": 14,
     "metadata": {},
     "output_type": "execute_result"
    }
   ],
   "source": [
    "s1.head(3)"
   ]
  },
  {
   "cell_type": "code",
   "execution_count": 15,
   "metadata": {
    "collapsed": false,
    "deletable": true,
    "editable": true
   },
   "outputs": [
    {
     "data": {
      "text/plain": [
       "(96, 14)"
      ]
     },
     "execution_count": 15,
     "metadata": {},
     "output_type": "execute_result"
    }
   ],
   "source": [
    "s1.shape"
   ]
  },
  {
   "cell_type": "code",
   "execution_count": 16,
   "metadata": {
    "collapsed": false,
    "deletable": true,
    "editable": true
   },
   "outputs": [
    {
     "data": {
      "text/plain": [
       "類別    年月       地區        \n",
       "食品餐飲  105年04月  基隆市  0-20       82.0\n",
       "                    20-25    1549.0\n",
       "                    25-30    4082.0\n",
       "                    30-35    6648.0\n",
       "                    35-40    9642.0\n",
       "dtype: float64"
      ]
     },
     "execution_count": 16,
     "metadata": {},
     "output_type": "execute_result"
    }
   ],
   "source": [
    "s1.stack().head(5)"
   ]
  },
  {
   "cell_type": "code",
   "execution_count": 17,
   "metadata": {
    "collapsed": false,
    "deletable": true,
    "editable": true
   },
   "outputs": [
    {
     "data": {
      "text/plain": [
       "類別    年月       地區        \n",
       "食品餐飲  105年04月  基隆市  0-20        62383.0\n",
       "                    20-25     1725439.0\n",
       "                    25-30     5276464.0\n",
       "                    30-35     9189203.0\n",
       "                    35-40    11863759.0\n",
       "dtype: float64"
      ]
     },
     "execution_count": 17,
     "metadata": {},
     "output_type": "execute_result"
    }
   ],
   "source": [
    "s2.stack().head(5)"
   ]
  },
  {
   "cell_type": "markdown",
   "metadata": {
    "deletable": true,
    "editable": true
   },
   "source": [
    "將消費比數s1.stack()和消費金額s2.stack()兩張表結合。"
   ]
  },
  {
   "cell_type": "code",
   "execution_count": 18,
   "metadata": {
    "collapsed": false,
    "deletable": true,
    "editable": true
   },
   "outputs": [],
   "source": [
    "dfFoods=pd.concat([s1.stack(),s2.stack()],axis=1)"
   ]
  },
  {
   "cell_type": "code",
   "execution_count": 19,
   "metadata": {
    "collapsed": false,
    "deletable": true,
    "editable": true
   },
   "outputs": [],
   "source": [
    "dfFoods.columns=['筆數','金額']"
   ]
  },
  {
   "cell_type": "code",
   "execution_count": 20,
   "metadata": {
    "collapsed": false,
    "deletable": true,
    "editable": true
   },
   "outputs": [],
   "source": [
    "dfFoods.index.names=['類別', '年月', '地區', '年齡']"
   ]
  },
  {
   "cell_type": "code",
   "execution_count": 21,
   "metadata": {
    "collapsed": false,
    "deletable": true,
    "editable": true
   },
   "outputs": [
    {
     "data": {
      "text/html": [
       "<div>\n",
       "<table border=\"1\" class=\"dataframe\">\n",
       "  <thead>\n",
       "    <tr style=\"text-align: right;\">\n",
       "      <th></th>\n",
       "      <th></th>\n",
       "      <th></th>\n",
       "      <th></th>\n",
       "      <th>筆數</th>\n",
       "      <th>金額</th>\n",
       "    </tr>\n",
       "    <tr>\n",
       "      <th>類別</th>\n",
       "      <th>年月</th>\n",
       "      <th>地區</th>\n",
       "      <th>年齡</th>\n",
       "      <th></th>\n",
       "      <th></th>\n",
       "    </tr>\n",
       "  </thead>\n",
       "  <tbody>\n",
       "    <tr>\n",
       "      <th rowspan=\"5\" valign=\"top\">食品餐飲</th>\n",
       "      <th rowspan=\"5\" valign=\"top\">105年04月</th>\n",
       "      <th rowspan=\"5\" valign=\"top\">基隆市</th>\n",
       "      <th>0-20</th>\n",
       "      <td>82.0</td>\n",
       "      <td>62383.0</td>\n",
       "    </tr>\n",
       "    <tr>\n",
       "      <th>20-25</th>\n",
       "      <td>1549.0</td>\n",
       "      <td>1725439.0</td>\n",
       "    </tr>\n",
       "    <tr>\n",
       "      <th>25-30</th>\n",
       "      <td>4082.0</td>\n",
       "      <td>5276464.0</td>\n",
       "    </tr>\n",
       "    <tr>\n",
       "      <th>30-35</th>\n",
       "      <td>6648.0</td>\n",
       "      <td>9189203.0</td>\n",
       "    </tr>\n",
       "    <tr>\n",
       "      <th>35-40</th>\n",
       "      <td>9642.0</td>\n",
       "      <td>11863759.0</td>\n",
       "    </tr>\n",
       "  </tbody>\n",
       "</table>\n",
       "</div>"
      ],
      "text/plain": [
       "                            筆數          金額\n",
       "類別   年月      地區  年齡                       \n",
       "食品餐飲 105年04月 基隆市 0-20     82.0     62383.0\n",
       "                 20-25  1549.0   1725439.0\n",
       "                 25-30  4082.0   5276464.0\n",
       "                 30-35  6648.0   9189203.0\n",
       "                 35-40  9642.0  11863759.0"
      ]
     },
     "execution_count": 21,
     "metadata": {},
     "output_type": "execute_result"
    }
   ],
   "source": [
    "dfFoods.head(5)"
   ]
  },
  {
   "cell_type": "code",
   "execution_count": 22,
   "metadata": {
    "collapsed": false,
    "deletable": true,
    "editable": true
   },
   "outputs": [
    {
     "data": {
      "text/plain": [
       "FrozenList([['食品餐飲'], ['105年04月', '105年05月', '105年06月', '105年07月', '105年08月', '105年09月'], ['南投縣', '台東縣', '嘉義市', '嘉義縣', '基隆市', '宜蘭縣', '屏東縣', '彰化縣', '新竹市', '新竹縣', '澎湖縣', '花蓮縣', '苗栗縣', '連江縣', '金門縣', '雲林縣'], ['0-20', '20-25', '25-30', '30-35', '35-40', '40-45', '45-50', '50-55', '55-60', '60-65', '65-70', '70-75', '75-80', '80-']])"
      ]
     },
     "execution_count": 22,
     "metadata": {},
     "output_type": "execute_result"
    }
   ],
   "source": [
    "dfFoods.index.levels"
   ]
  },
  {
   "cell_type": "markdown",
   "metadata": {
    "deletable": true,
    "editable": true
   },
   "source": [
    "食品餐飲類的資料表建立完成。"
   ]
  },
  {
   "cell_type": "markdown",
   "metadata": {
    "deletable": true,
    "editable": true
   },
   "source": [
    "----"
   ]
  },
  {
   "cell_type": "markdown",
   "metadata": {
    "deletable": true,
    "editable": true
   },
   "source": [
    "### <a id=\"02\"/>備註：建立與解除索引"
   ]
  },
  {
   "cell_type": "markdown",
   "metadata": {
    "deletable": true,
    "editable": true
   },
   "source": [
    "#### 使用reset_index(level='年齡')將造成'年齡'索引變成欄位。"
   ]
  },
  {
   "cell_type": "code",
   "execution_count": 23,
   "metadata": {
    "collapsed": false,
    "deletable": true,
    "editable": true
   },
   "outputs": [
    {
     "data": {
      "text/html": [
       "<div>\n",
       "<table border=\"1\" class=\"dataframe\">\n",
       "  <thead>\n",
       "    <tr style=\"text-align: right;\">\n",
       "      <th></th>\n",
       "      <th></th>\n",
       "      <th></th>\n",
       "      <th>年齡</th>\n",
       "      <th>筆數</th>\n",
       "      <th>金額</th>\n",
       "    </tr>\n",
       "    <tr>\n",
       "      <th>類別</th>\n",
       "      <th>年月</th>\n",
       "      <th>地區</th>\n",
       "      <th></th>\n",
       "      <th></th>\n",
       "      <th></th>\n",
       "    </tr>\n",
       "  </thead>\n",
       "  <tbody>\n",
       "    <tr>\n",
       "      <th rowspan=\"3\" valign=\"top\">食品餐飲</th>\n",
       "      <th rowspan=\"3\" valign=\"top\">105年04月</th>\n",
       "      <th>基隆市</th>\n",
       "      <td>0-20</td>\n",
       "      <td>82.0</td>\n",
       "      <td>62383.0</td>\n",
       "    </tr>\n",
       "    <tr>\n",
       "      <th>基隆市</th>\n",
       "      <td>20-25</td>\n",
       "      <td>1549.0</td>\n",
       "      <td>1725439.0</td>\n",
       "    </tr>\n",
       "    <tr>\n",
       "      <th>基隆市</th>\n",
       "      <td>25-30</td>\n",
       "      <td>4082.0</td>\n",
       "      <td>5276464.0</td>\n",
       "    </tr>\n",
       "  </tbody>\n",
       "</table>\n",
       "</div>"
      ],
      "text/plain": [
       "                     年齡      筆數         金額\n",
       "類別   年月      地區                           \n",
       "食品餐飲 105年04月 基隆市   0-20    82.0    62383.0\n",
       "             基隆市  20-25  1549.0  1725439.0\n",
       "             基隆市  25-30  4082.0  5276464.0"
      ]
     },
     "execution_count": 23,
     "metadata": {},
     "output_type": "execute_result"
    }
   ],
   "source": [
    "dfFoods.reset_index(level='年齡').head(3)"
   ]
  },
  {
   "cell_type": "markdown",
   "metadata": {
    "deletable": true,
    "editable": true
   },
   "source": [
    "#### 使用reset_index()將造成所有索引變成欄位。"
   ]
  },
  {
   "cell_type": "code",
   "execution_count": 24,
   "metadata": {
    "collapsed": false,
    "deletable": true,
    "editable": true
   },
   "outputs": [
    {
     "data": {
      "text/html": [
       "<div>\n",
       "<table border=\"1\" class=\"dataframe\">\n",
       "  <thead>\n",
       "    <tr style=\"text-align: right;\">\n",
       "      <th></th>\n",
       "      <th>類別</th>\n",
       "      <th>年月</th>\n",
       "      <th>地區</th>\n",
       "      <th>年齡</th>\n",
       "      <th>筆數</th>\n",
       "      <th>金額</th>\n",
       "    </tr>\n",
       "  </thead>\n",
       "  <tbody>\n",
       "    <tr>\n",
       "      <th>0</th>\n",
       "      <td>食品餐飲</td>\n",
       "      <td>105年04月</td>\n",
       "      <td>基隆市</td>\n",
       "      <td>0-20</td>\n",
       "      <td>82.0</td>\n",
       "      <td>62383.0</td>\n",
       "    </tr>\n",
       "    <tr>\n",
       "      <th>1</th>\n",
       "      <td>食品餐飲</td>\n",
       "      <td>105年04月</td>\n",
       "      <td>基隆市</td>\n",
       "      <td>20-25</td>\n",
       "      <td>1549.0</td>\n",
       "      <td>1725439.0</td>\n",
       "    </tr>\n",
       "    <tr>\n",
       "      <th>2</th>\n",
       "      <td>食品餐飲</td>\n",
       "      <td>105年04月</td>\n",
       "      <td>基隆市</td>\n",
       "      <td>25-30</td>\n",
       "      <td>4082.0</td>\n",
       "      <td>5276464.0</td>\n",
       "    </tr>\n",
       "  </tbody>\n",
       "</table>\n",
       "</div>"
      ],
      "text/plain": [
       "     類別       年月   地區     年齡      筆數         金額\n",
       "0  食品餐飲  105年04月  基隆市   0-20    82.0    62383.0\n",
       "1  食品餐飲  105年04月  基隆市  20-25  1549.0  1725439.0\n",
       "2  食品餐飲  105年04月  基隆市  25-30  4082.0  5276464.0"
      ]
     },
     "execution_count": 24,
     "metadata": {},
     "output_type": "execute_result"
    }
   ],
   "source": [
    "dfFoods.reset_index().head(3)"
   ]
  },
  {
   "cell_type": "markdown",
   "metadata": {
    "deletable": true,
    "editable": true
   },
   "source": [
    "#### 使用set_index(indexes)可將欄位變回索引。"
   ]
  },
  {
   "cell_type": "code",
   "execution_count": 25,
   "metadata": {
    "collapsed": false,
    "deletable": true,
    "editable": true
   },
   "outputs": [
    {
     "data": {
      "text/html": [
       "<div>\n",
       "<table border=\"1\" class=\"dataframe\">\n",
       "  <thead>\n",
       "    <tr style=\"text-align: right;\">\n",
       "      <th></th>\n",
       "      <th></th>\n",
       "      <th></th>\n",
       "      <th></th>\n",
       "      <th>筆數</th>\n",
       "      <th>金額</th>\n",
       "    </tr>\n",
       "    <tr>\n",
       "      <th>類別</th>\n",
       "      <th>年月</th>\n",
       "      <th>地區</th>\n",
       "      <th>年齡</th>\n",
       "      <th></th>\n",
       "      <th></th>\n",
       "    </tr>\n",
       "  </thead>\n",
       "  <tbody>\n",
       "    <tr>\n",
       "      <th rowspan=\"3\" valign=\"top\">食品餐飲</th>\n",
       "      <th rowspan=\"3\" valign=\"top\">105年04月</th>\n",
       "      <th rowspan=\"3\" valign=\"top\">基隆市</th>\n",
       "      <th>0-20</th>\n",
       "      <td>82.0</td>\n",
       "      <td>62383.0</td>\n",
       "    </tr>\n",
       "    <tr>\n",
       "      <th>20-25</th>\n",
       "      <td>1549.0</td>\n",
       "      <td>1725439.0</td>\n",
       "    </tr>\n",
       "    <tr>\n",
       "      <th>25-30</th>\n",
       "      <td>4082.0</td>\n",
       "      <td>5276464.0</td>\n",
       "    </tr>\n",
       "  </tbody>\n",
       "</table>\n",
       "</div>"
      ],
      "text/plain": [
       "                            筆數         金額\n",
       "類別   年月      地區  年齡                      \n",
       "食品餐飲 105年04月 基隆市 0-20     82.0    62383.0\n",
       "                 20-25  1549.0  1725439.0\n",
       "                 25-30  4082.0  5276464.0"
      ]
     },
     "execution_count": 25,
     "metadata": {},
     "output_type": "execute_result"
    }
   ],
   "source": [
    "dfFoods.reset_index().set_index(['類別', '年月', '地區', '年齡']).head(3)"
   ]
  },
  {
   "cell_type": "markdown",
   "metadata": {
    "deletable": true,
    "editable": true
   },
   "source": [
    "-----"
   ]
  },
  {
   "cell_type": "markdown",
   "metadata": {
    "deletable": true,
    "editable": true
   },
   "source": [
    "### <a id=\"03\"/>我們已經了解了如何製作食品餐飲類的資料表。現在，我們要將七大類各別做成一個資料表，然後將它們連結起來，成為一個最終資料表"
   ]
  },
  {
   "cell_type": "code",
   "execution_count": 26,
   "metadata": {
    "collapsed": false,
    "deletable": true,
    "editable": true
   },
   "outputs": [],
   "source": [
    "def transf(x,*args):\n",
    "    return x[list(args)]\n",
    "\n",
    "df=pd.DataFrame.from_csv('../datasets/BANK_LOC_ALL_AG.csv',sep=';',encoding='utf8',index_col=['年月','地區'])\n",
    "\n",
    "types=['食品餐飲','衣著飾品','旅館住宿','交通','文教康樂','百貨','其他']\n",
    "\n",
    "dfs=[]\n",
    "for tpeIdx,tpe in enumerate(types):\n",
    "    s1=df.apply(transf,axis=1,args=[j for j in range(2*tpeIdx,196,14)])\n",
    "    s1.columns=['0-20','20-25','25-30','30-35','35-40','40-45','45-50','50-55','55-60','60-65','65-70','70-75','75-80','80-']\n",
    "    s2=df.apply(transf,axis=1,args=[j for j in range(2*tpeIdx+1,196,14)])\n",
    "    s2.columns=['0-20','20-25','25-30','30-35','35-40','40-45','45-50','50-55','55-60','60-65','65-70','70-75','75-80','80-']\n",
    "    idx=pd.MultiIndex(levels=[[tpe],['2016-04', '2016-05', '2016-06', '2016-07', '2016-08', '2016-09'], ['南投縣', '台東縣', '嘉義市', '嘉義縣', '基隆市', '宜蘭縣', '屏東縣', '彰化縣', '新竹市', '新竹縣', '澎湖縣', '花蓮縣', '苗栗縣', '連江縣', '金門縣', '雲林縣']],\n",
    "               labels=[[0]*96,[0, 1, 2, 3, 4, 5, 0, 1, 2, 3, 4, 5, 0, 1, 2, 3, 4, 5, 0, 1, 2, 3, 4, 5, 0, 1, 2, 3, 4, 5, 0, 1, 2, 3, 4, 5, 0, 1, 2, 3, 4, 5, 0, 1, 2, 3, 4, 5, 0, 1, 2, 3, 4, 5, 0, 1, 2, 3, 4, 5, 0, 1, 2, 3, 4, 5, 0, 1, 2, 3, 4, 5, 0, 1, 2, 3, 4, 5, 0, 1, 2, 3, 4, 5, 0, 1, 2, 3, 4, 5, 0, 1, 2, 3, 4, 5], [4, 4, 4, 4, 4, 4, 8, 8, 8, 8, 8, 8, 9, 9, 9, 9, 9, 9, 12, 12, 12, 12, 12, 12, 7, 7, 7, 7, 7, 7, 0, 0, 0, 0, 0, 0, 15, 15, 15, 15, 15, 15, 2, 2, 2, 2, 2, 2, 3, 3, 3, 3, 3, 3, 6, 6, 6, 6, 6, 6, 5, 5, 5, 5, 5, 5, 11, 11, 11, 11, 11, 11, 1, 1, 1, 1, 1, 1, 10, 10, 10, 10, 10, 10, 14, 14, 14, 14, 14, 14, 13, 13, 13, 13, 13, 13]],\n",
    "               names=['type', 'date', 'place'])\n",
    "    s1.index,s2.index=idx,idx\n",
    "    dfNew=pd.concat([s1.stack(),s2.stack()],axis=1)\n",
    "    dfNew.columns=['numer of items','total amount(NTD)']\n",
    "    dfNew.index.names=['type', 'date', 'place', 'age']\n",
    "    dfs.append(dfNew)"
   ]
  },
  {
   "cell_type": "code",
   "execution_count": 27,
   "metadata": {
    "collapsed": true,
    "deletable": true,
    "editable": true
   },
   "outputs": [],
   "source": [
    "df=pd.concat(dfs,axis=0)  # 連結七大類消費的資料表成為一個最終資料表"
   ]
  },
  {
   "cell_type": "code",
   "execution_count": 28,
   "metadata": {
    "collapsed": false,
    "deletable": true,
    "editable": true
   },
   "outputs": [],
   "source": [
    "df=df.sort_index()  # 排序索引，以加速資料查找。"
   ]
  },
  {
   "cell_type": "markdown",
   "metadata": {
    "deletable": true,
    "editable": true
   },
   "source": [
    "將最終資料表輸出："
   ]
  },
  {
   "cell_type": "code",
   "execution_count": 29,
   "metadata": {
    "collapsed": false,
    "deletable": true,
    "editable": true
   },
   "outputs": [],
   "source": [
    "df.to_csv('../datasets/BANK_LOC_ALL_AG_fixed.csv')\n",
    "\n",
    "import tables\n",
    "df.to_hdf('../datasets/BANK_LOC_ALL_AG_fixed.h5','table',complib='bzip2')"
   ]
  },
  {
   "cell_type": "code",
   "execution_count": 30,
   "metadata": {
    "collapsed": false,
    "deletable": true,
    "editable": true
   },
   "outputs": [
    {
     "name": "stdout",
     "output_type": "stream",
     "text": [
      "ls: BANK_*: No such file or directory\r\n"
     ]
    }
   ],
   "source": [
    "!ls -hl BANK_*"
   ]
  },
  {
   "cell_type": "code",
   "execution_count": 31,
   "metadata": {
    "collapsed": false,
    "deletable": true,
    "editable": true
   },
   "outputs": [
    {
     "data": {
      "text/html": [
       "<div>\n",
       "<table border=\"1\" class=\"dataframe\">\n",
       "  <thead>\n",
       "    <tr style=\"text-align: right;\">\n",
       "      <th></th>\n",
       "      <th></th>\n",
       "      <th></th>\n",
       "      <th></th>\n",
       "      <th>numer of items</th>\n",
       "      <th>total amount(NTD)</th>\n",
       "    </tr>\n",
       "    <tr>\n",
       "      <th>type</th>\n",
       "      <th>date</th>\n",
       "      <th>place</th>\n",
       "      <th>age</th>\n",
       "      <th></th>\n",
       "      <th></th>\n",
       "    </tr>\n",
       "  </thead>\n",
       "  <tbody>\n",
       "    <tr>\n",
       "      <th rowspan=\"15\" valign=\"top\">交通</th>\n",
       "      <th rowspan=\"15\" valign=\"top\">2016-04</th>\n",
       "      <th rowspan=\"14\" valign=\"top\">南投縣</th>\n",
       "      <th>0-20</th>\n",
       "      <td>154.0</td>\n",
       "      <td>188972.0</td>\n",
       "    </tr>\n",
       "    <tr>\n",
       "      <th>20-25</th>\n",
       "      <td>3266.0</td>\n",
       "      <td>2059066.0</td>\n",
       "    </tr>\n",
       "    <tr>\n",
       "      <th>25-30</th>\n",
       "      <td>9966.0</td>\n",
       "      <td>6756097.0</td>\n",
       "    </tr>\n",
       "    <tr>\n",
       "      <th>30-35</th>\n",
       "      <td>17011.0</td>\n",
       "      <td>12752290.0</td>\n",
       "    </tr>\n",
       "    <tr>\n",
       "      <th>35-40</th>\n",
       "      <td>21662.0</td>\n",
       "      <td>17481393.0</td>\n",
       "    </tr>\n",
       "    <tr>\n",
       "      <th>40-45</th>\n",
       "      <td>20381.0</td>\n",
       "      <td>16592262.0</td>\n",
       "    </tr>\n",
       "    <tr>\n",
       "      <th>45-50</th>\n",
       "      <td>20233.0</td>\n",
       "      <td>17236529.0</td>\n",
       "    </tr>\n",
       "    <tr>\n",
       "      <th>50-55</th>\n",
       "      <td>16495.0</td>\n",
       "      <td>14659402.0</td>\n",
       "    </tr>\n",
       "    <tr>\n",
       "      <th>55-60</th>\n",
       "      <td>11587.0</td>\n",
       "      <td>9727675.0</td>\n",
       "    </tr>\n",
       "    <tr>\n",
       "      <th>60-65</th>\n",
       "      <td>6537.0</td>\n",
       "      <td>5700634.0</td>\n",
       "    </tr>\n",
       "    <tr>\n",
       "      <th>65-70</th>\n",
       "      <td>2532.0</td>\n",
       "      <td>2014589.0</td>\n",
       "    </tr>\n",
       "    <tr>\n",
       "      <th>70-75</th>\n",
       "      <td>565.0</td>\n",
       "      <td>433083.0</td>\n",
       "    </tr>\n",
       "    <tr>\n",
       "      <th>75-80</th>\n",
       "      <td>259.0</td>\n",
       "      <td>178006.0</td>\n",
       "    </tr>\n",
       "    <tr>\n",
       "      <th>80-</th>\n",
       "      <td>76.0</td>\n",
       "      <td>44229.0</td>\n",
       "    </tr>\n",
       "    <tr>\n",
       "      <th>台東縣</th>\n",
       "      <th>0-20</th>\n",
       "      <td>65.0</td>\n",
       "      <td>45883.0</td>\n",
       "    </tr>\n",
       "  </tbody>\n",
       "</table>\n",
       "</div>"
      ],
      "text/plain": [
       "                          numer of items  total amount(NTD)\n",
       "type date    place age                                     \n",
       "交通   2016-04 南投縣   0-20            154.0           188972.0\n",
       "                   20-25          3266.0          2059066.0\n",
       "                   25-30          9966.0          6756097.0\n",
       "                   30-35         17011.0         12752290.0\n",
       "                   35-40         21662.0         17481393.0\n",
       "                   40-45         20381.0         16592262.0\n",
       "                   45-50         20233.0         17236529.0\n",
       "                   50-55         16495.0         14659402.0\n",
       "                   55-60         11587.0          9727675.0\n",
       "                   60-65          6537.0          5700634.0\n",
       "                   65-70          2532.0          2014589.0\n",
       "                   70-75           565.0           433083.0\n",
       "                   75-80           259.0           178006.0\n",
       "                   80-              76.0            44229.0\n",
       "             台東縣   0-20             65.0            45883.0"
      ]
     },
     "execution_count": 31,
     "metadata": {},
     "output_type": "execute_result"
    }
   ],
   "source": [
    "df.head(15)"
   ]
  },
  {
   "cell_type": "code",
   "execution_count": 32,
   "metadata": {
    "collapsed": false,
    "deletable": true,
    "editable": true
   },
   "outputs": [
    {
     "data": {
      "text/plain": [
       "FrozenList(['type', 'date', 'place', 'age'])"
      ]
     },
     "execution_count": 32,
     "metadata": {},
     "output_type": "execute_result"
    }
   ],
   "source": [
    "df.index.names"
   ]
  },
  {
   "cell_type": "code",
   "execution_count": 33,
   "metadata": {
    "collapsed": false,
    "deletable": true,
    "editable": true
   },
   "outputs": [
    {
     "data": {
      "text/plain": [
       "FrozenList([['交通', '其他', '文教康樂', '旅館住宿', '百貨', '衣著飾品', '食品餐飲'], ['2016-04', '2016-05', '2016-06', '2016-07', '2016-08', '2016-09'], ['南投縣', '台東縣', '嘉義市', '嘉義縣', '基隆市', '宜蘭縣', '屏東縣', '彰化縣', '新竹市', '新竹縣', '澎湖縣', '花蓮縣', '苗栗縣', '連江縣', '金門縣', '雲林縣'], ['0-20', '20-25', '25-30', '30-35', '35-40', '40-45', '45-50', '50-55', '55-60', '60-65', '65-70', '70-75', '75-80', '80-']])"
      ]
     },
     "execution_count": 33,
     "metadata": {},
     "output_type": "execute_result"
    }
   ],
   "source": [
    "df.index.levels"
   ]
  },
  {
   "cell_type": "code",
   "execution_count": 34,
   "metadata": {
    "collapsed": false,
    "deletable": true,
    "editable": true
   },
   "outputs": [
    {
     "data": {
      "text/plain": [
       "Index(['numer of items', 'total amount(NTD)'], dtype='object')"
      ]
     },
     "execution_count": 34,
     "metadata": {},
     "output_type": "execute_result"
    }
   ],
   "source": [
    "df.columns"
   ]
  },
  {
   "cell_type": "markdown",
   "metadata": {
    "collapsed": true,
    "deletable": true,
    "editable": true
   },
   "source": [
    "資料表整理完畢。"
   ]
  },
  {
   "cell_type": "markdown",
   "metadata": {
    "deletable": true,
    "editable": true
   },
   "source": [
    "---"
   ]
  },
  {
   "cell_type": "markdown",
   "metadata": {
    "deletable": true,
    "editable": true
   },
   "source": [
    "### <a id=\"04\"/>畫盒鬚圖，以了解不同縣市下，各年齡層的消費狀況"
   ]
  },
  {
   "cell_type": "code",
   "execution_count": 35,
   "metadata": {
    "collapsed": false,
    "deletable": true,
    "editable": true
   },
   "outputs": [],
   "source": [
    "df_age=df.drop('numer of items',axis=1)"
   ]
  },
  {
   "cell_type": "code",
   "execution_count": 36,
   "metadata": {
    "collapsed": false,
    "deletable": true,
    "editable": true
   },
   "outputs": [
    {
     "data": {
      "text/plain": [
       "Index(['2016-04', '2016-05', '2016-06', '2016-07', '2016-08', '2016-09'], dtype='object', name='date')"
      ]
     },
     "execution_count": 36,
     "metadata": {},
     "output_type": "execute_result"
    }
   ],
   "source": [
    "df_age.index.levels[1]"
   ]
  },
  {
   "cell_type": "code",
   "execution_count": 37,
   "metadata": {
    "collapsed": false,
    "deletable": true,
    "editable": true
   },
   "outputs": [
    {
     "name": "stdout",
     "output_type": "stream",
     "text": [
      "Index(['南投縣', '台東縣', '嘉義市', '嘉義縣', '基隆市', '宜蘭縣', '屏東縣', '彰化縣', '新竹市', '新竹縣',\n",
      "       '澎湖縣', '花蓮縣', '苗栗縣', '連江縣', '金門縣', '雲林縣'],\n",
      "      dtype='object', name='place')\n",
      "16\n"
     ]
    }
   ],
   "source": [
    "print(df_age.index.levels[2])\n",
    "print(len(df_age.index.levels[2]))"
   ]
  },
  {
   "cell_type": "code",
   "execution_count": 38,
   "metadata": {
    "collapsed": true,
    "deletable": true,
    "editable": true
   },
   "outputs": [],
   "source": [
    "cities=[\"NantouCny\",\"TaitungCny\",\"ChiayiCty\",\"ChiayiCny\",\n",
    "        \"KeelungCty\",\"YeelanCny\",\"PingTongCny\",\"ChanghwaCny\",\n",
    "       \"HsingzuCty\",\"HsingzuCny\",\"PenghuCny\",\"HwalianCny\",\"MiaoliCny\",\n",
    "       \"LianchiangCny\", \"KingmenCny\",\"YunlinCny\"]"
   ]
  },
  {
   "cell_type": "code",
   "execution_count": 39,
   "metadata": {
    "collapsed": false,
    "deletable": true,
    "editable": true,
    "scrolled": false
   },
   "outputs": [
    {
     "name": "stdout",
     "output_type": "stream",
     "text": [
      "南投縣\n",
      "台東縣\n",
      "嘉義市\n",
      "嘉義縣\n",
      "基隆市\n",
      "宜蘭縣\n",
      "屏東縣\n",
      "彰化縣\n",
      "新竹市\n",
      "新竹縣\n",
      "澎湖縣\n",
      "花蓮縣\n",
      "苗栗縣\n",
      "連江縣\n",
      "金門縣\n",
      "雲林縣\n"
     ]
    },
    {
     "data": {
      "image/png": "[encoded data removed]",
      "text/plain": [
       "<matplotlib.figure.Figure at 0x10b0a9860>"
      ]
     },
     "metadata": {},
     "output_type": "display_data"
    }
   ],
   "source": [
    "fig,axes=plt.subplots(8,2,figsize=(13,30),sharey=False)\n",
    "\n",
    "for idx,city in enumerate(df.index.levels[2]):\n",
    "    print(city)\n",
    "    df_city=df_age.loc[(list(df_age.index.levels[0]),list(df_age.index.levels[1]),city)].reset_index('age')\n",
    "    df_city.boxplot(by='age',ax=axes.reshape(-1)[idx])\n",
    "    axes.reshape(-1)[idx].set_title(cities[idx])\n",
    "fig.suptitle('')\n",
    "plt.tight_layout()\n",
    "plt.show()"
   ]
  },
  {
   "cell_type": "markdown",
   "metadata": {
    "deletable": true,
    "editable": true
   },
   "source": [
    "### <a id=\"05\"/>畫散佈圖來了解不同縣市下，商品數量和商品價格的關係"
   ]
  },
  {
   "cell_type": "code",
   "execution_count": 40,
   "metadata": {
    "collapsed": true,
    "deletable": true,
    "editable": true
   },
   "outputs": [],
   "source": [
    "groups=df.groupby(level=2)"
   ]
  },
  {
   "cell_type": "code",
   "execution_count": 41,
   "metadata": {
    "collapsed": false,
    "deletable": true,
    "editable": true,
    "scrolled": false
   },
   "outputs": [
    {
     "data": {
      "image/png": "[encoded data removed]",
      "text/plain": [
       "<matplotlib.figure.Figure at 0x10df910f0>"
      ]
     },
     "metadata": {},
     "output_type": "display_data"
    }
   ],
   "source": [
    "xlabel='numer of items'\n",
    "ylabel='total amount(NTD)'\n",
    "\n",
    "fig, axes = plt.subplots(8,2,figsize=(10,30),sharex=True,sharey=True)\n",
    "plt.subplots_adjust(hspace=0.5)\n",
    "plt.subplots_adjust(wspace=0.5)\n",
    "#ax.set_xlabel(xlabel)\n",
    "#ax.set_ylabel(ylabel)\n",
    "\n",
    "for idx, (name, group) in enumerate(groups):\n",
    "    axes.reshape(-1)[idx].plot(group[xlabel], group[ylabel], marker='o', linestyle='', ms=7)\n",
    "    #axes.reshape(-1)[idx].set_xlabel(xlabel)\n",
    "    #axes.reshape(-1)[idx].set_ylabel(ylabel)\n",
    "    axes.reshape(-1)[idx].set_title(cities[idx])\n",
    "    \n",
    "plt.tight_layout()\n",
    "plt.show()"
   ]
  },
  {
   "cell_type": "markdown",
   "metadata": {
    "deletable": true,
    "editable": true
   },
   "source": [
    "大城市有更多的消費筆數。猜測：每個斜率表示一種消費種類。某些小城市可能信用卡消費的種類偏少。"
   ]
  },
  {
   "cell_type": "markdown",
   "metadata": {
    "deletable": true,
    "editable": true
   },
   "source": [
    "### <a id=\"06\"/>繼續畫散佈圖，目的是了解於不同月份下，商品數和商品價格的關係"
   ]
  },
  {
   "cell_type": "code",
   "execution_count": 42,
   "metadata": {
    "collapsed": false,
    "deletable": true,
    "editable": true
   },
   "outputs": [],
   "source": [
    "df=pd.read_hdf('../datasets/BANK_LOC_ALL_AG_fixed.h5','table')"
   ]
  },
  {
   "cell_type": "code",
   "execution_count": 43,
   "metadata": {
    "collapsed": false,
    "deletable": true,
    "editable": true
   },
   "outputs": [
    {
     "data": {
      "text/html": [
       "<div>\n",
       "<table border=\"1\" class=\"dataframe\">\n",
       "  <thead>\n",
       "    <tr style=\"text-align: right;\">\n",
       "      <th></th>\n",
       "      <th></th>\n",
       "      <th></th>\n",
       "      <th></th>\n",
       "      <th>numer of items</th>\n",
       "      <th>total amount(NTD)</th>\n",
       "    </tr>\n",
       "    <tr>\n",
       "      <th>type</th>\n",
       "      <th>date</th>\n",
       "      <th>place</th>\n",
       "      <th>age</th>\n",
       "      <th></th>\n",
       "      <th></th>\n",
       "    </tr>\n",
       "  </thead>\n",
       "  <tbody>\n",
       "    <tr>\n",
       "      <th rowspan=\"3\" valign=\"top\">交通</th>\n",
       "      <th rowspan=\"3\" valign=\"top\">2016-04</th>\n",
       "      <th rowspan=\"3\" valign=\"top\">南投縣</th>\n",
       "      <th>0-20</th>\n",
       "      <td>154.0</td>\n",
       "      <td>188972.0</td>\n",
       "    </tr>\n",
       "    <tr>\n",
       "      <th>20-25</th>\n",
       "      <td>3266.0</td>\n",
       "      <td>2059066.0</td>\n",
       "    </tr>\n",
       "    <tr>\n",
       "      <th>25-30</th>\n",
       "      <td>9966.0</td>\n",
       "      <td>6756097.0</td>\n",
       "    </tr>\n",
       "  </tbody>\n",
       "</table>\n",
       "</div>"
      ],
      "text/plain": [
       "                          numer of items  total amount(NTD)\n",
       "type date    place age                                     \n",
       "交通   2016-04 南投縣   0-20            154.0           188972.0\n",
       "                   20-25          3266.0          2059066.0\n",
       "                   25-30          9966.0          6756097.0"
      ]
     },
     "execution_count": 43,
     "metadata": {},
     "output_type": "execute_result"
    }
   ],
   "source": [
    "df[:3]"
   ]
  },
  {
   "cell_type": "code",
   "execution_count": 44,
   "metadata": {
    "collapsed": false,
    "deletable": true,
    "editable": true,
    "scrolled": false
   },
   "outputs": [],
   "source": [
    "groups=df.groupby(level=1)"
   ]
  },
  {
   "cell_type": "code",
   "execution_count": 45,
   "metadata": {
    "collapsed": false,
    "deletable": true,
    "editable": true
   },
   "outputs": [
    {
     "data": {
      "image/png": "[encoded data removed]",
      "text/plain": [
       "<matplotlib.figure.Figure at 0x10f47bda0>"
      ]
     },
     "metadata": {},
     "output_type": "display_data"
    }
   ],
   "source": [
    "xlabel='numer of items'\n",
    "ylabel='total amount(NTD)'\n",
    "\n",
    "fig, axes = plt.subplots(2,3,figsize=(10,5),sharex=True,sharey=True)\n",
    "fig.suptitle('results')\n",
    "plt.subplots_adjust(hspace=0.5)\n",
    "plt.subplots_adjust(wspace=0.5)\n",
    "#ax.set_xlabel(xlabel)\n",
    "#ax.set_ylabel(ylabel)\n",
    "\n",
    "for idx, (name, group) in enumerate(groups):\n",
    "    axes.reshape(-1)[idx].plot(group[xlabel], group[ylabel], marker='o', linestyle='', ms=7)\n",
    "    #axes.reshape(-1)[idx].set_xlabel(xlabel)\n",
    "    #axes.reshape(-1)[idx].set_ylabel(ylabel)\n",
    "    axes.reshape(-1)[idx].set_title(name)\n",
    "    \n",
    "#plt.tight_layout()\n",
    "plt.show()"
   ]
  },
  {
   "cell_type": "markdown",
   "metadata": {
    "deletable": true,
    "editable": true
   },
   "source": [
    "不同時間基本上不太影響消費數和消費金額間的關係。我們可把以上六張圖畫在一起"
   ]
  },
  {
   "cell_type": "code",
   "execution_count": 46,
   "metadata": {
    "collapsed": false,
    "deletable": true,
    "editable": true
   },
   "outputs": [
    {
     "data": {
      "image/png": "[encoded data removed]",
      "text/plain": [
       "<matplotlib.figure.Figure at 0x10e2e76d8>"
      ]
     },
     "metadata": {},
     "output_type": "display_data"
    }
   ],
   "source": [
    "xlabel='numer of items'\n",
    "ylabel='total amount(NTD)'\n",
    "\n",
    "fig, ax = plt.subplots()\n",
    "fig.suptitle('results')\n",
    "\n",
    "ax.set_xlabel(xlabel)\n",
    "ax.set_ylabel(ylabel)\n",
    "ax.set_ylim((0,2.E8))\n",
    "\n",
    "for idx, (name, group) in enumerate(groups):\n",
    "    ax.plot(group[xlabel], group[ylabel], marker='o', linestyle='', ms=7,label=name)\n",
    "\n",
    "plt.legend(loc='upper left')\n",
    "plt.show()"
   ]
  },
  {
   "cell_type": "markdown",
   "metadata": {
    "collapsed": true,
    "deletable": true,
    "editable": true
   },
   "source": [
    "以上各種散佈圖，我們一直看到有不同斜率的存在。這可能反映了，不同的類型的商品，以信用卡消費的平均單價不同。因此我們以下想改為了解：\n",
    "\n",
    "### <a id=\"07\"/>不同商品類型底下，商品數和商品價格的關係"
   ]
  },
  {
   "cell_type": "code",
   "execution_count": 47,
   "metadata": {
    "collapsed": false,
    "deletable": true,
    "editable": true
   },
   "outputs": [],
   "source": [
    "df=pd.read_hdf('../datasets/BANK_LOC_ALL_AG_fixed.h5','table')"
   ]
  },
  {
   "cell_type": "code",
   "execution_count": 48,
   "metadata": {
    "collapsed": false,
    "deletable": true,
    "editable": true
   },
   "outputs": [
    {
     "data": {
      "text/plain": [
       "FrozenList(['type', 'date', 'place', 'age'])"
      ]
     },
     "execution_count": 48,
     "metadata": {},
     "output_type": "execute_result"
    }
   ],
   "source": [
    "df.index.names"
   ]
  },
  {
   "cell_type": "code",
   "execution_count": 49,
   "metadata": {
    "collapsed": false,
    "deletable": true,
    "editable": true
   },
   "outputs": [
    {
     "data": {
      "text/plain": [
       "FrozenList([['交通', '其他', '文教康樂', '旅館住宿', '百貨', '衣著飾品', '食品餐飲'], ['2016-04', '2016-05', '2016-06', '2016-07', '2016-08', '2016-09'], ['南投縣', '台東縣', '嘉義市', '嘉義縣', '基隆市', '宜蘭縣', '屏東縣', '彰化縣', '新竹市', '新竹縣', '澎湖縣', '花蓮縣', '苗栗縣', '連江縣', '金門縣', '雲林縣'], ['0-20', '20-25', '25-30', '30-35', '35-40', '40-45', '45-50', '50-55', '55-60', '60-65', '65-70', '70-75', '75-80', '80-']])"
      ]
     },
     "execution_count": 49,
     "metadata": {},
     "output_type": "execute_result"
    }
   ],
   "source": [
    "df.index.levels"
   ]
  },
  {
   "cell_type": "code",
   "execution_count": 50,
   "metadata": {
    "collapsed": false,
    "deletable": true,
    "editable": true
   },
   "outputs": [],
   "source": [
    "idx=df.index.set_levels([['TRAFFIC', 'OTHERS', 'EDUENTERTAIN', 'HOTEL', 'GROCERIES', 'CLOTHES', 'FOODS'], ['2016-04', '2016-05', '2016-06', '2016-07', '2016-08', '2016-09'], ['南投縣', '台東縣', '嘉義市', '嘉義縣', '基隆市', '宜蘭縣', '屏東縣', '彰化縣', '新竹市', '新竹縣', '澎湖縣', '花蓮縣', '苗栗縣', '連江縣', '金門縣', '雲林縣'], ['0-20', '20-25', '25-30', '30-35', '35-40', '40-45', '45-50', '50-55', '55-60', '60-65', '65-70', '70-75', '75-80', '80-']])"
   ]
  },
  {
   "cell_type": "code",
   "execution_count": 51,
   "metadata": {
    "collapsed": false,
    "deletable": true,
    "editable": true
   },
   "outputs": [],
   "source": [
    "df=df.set_index(idx)"
   ]
  },
  {
   "cell_type": "code",
   "execution_count": 52,
   "metadata": {
    "collapsed": false,
    "deletable": true,
    "editable": true
   },
   "outputs": [
    {
     "data": {
      "text/plain": [
       "Index(['CLOTHES', 'EDUENTERTAIN', 'FOODS', 'GROCERIES', 'HOTEL', 'OTHERS',\n",
       "       'TRAFFIC'],\n",
       "      dtype='object', name='type')"
      ]
     },
     "execution_count": 52,
     "metadata": {},
     "output_type": "execute_result"
    }
   ],
   "source": [
    "list(df.index.levels)[0]"
   ]
  },
  {
   "cell_type": "code",
   "execution_count": 53,
   "metadata": {
    "collapsed": true,
    "deletable": true,
    "editable": true
   },
   "outputs": [],
   "source": [
    "groups=df.groupby(level=0)"
   ]
  },
  {
   "cell_type": "code",
   "execution_count": 54,
   "metadata": {
    "collapsed": false,
    "deletable": true,
    "editable": true
   },
   "outputs": [
    {
     "data": {
      "text/plain": [
       "{'CLOTHES': array([6718, 6719, 6720, ..., 8059, 8060, 8061]),\n",
       " 'EDUENTERTAIN': array([2688, 2689, 2690, ..., 4029, 4030, 4031]),\n",
       " 'FOODS': array([8062, 8063, 8064, ..., 9403, 9404, 9405]),\n",
       " 'GROCERIES': array([5376, 5377, 5378, ..., 6715, 6716, 6717]),\n",
       " 'HOTEL': array([4032, 4033, 4034, ..., 5373, 5374, 5375]),\n",
       " 'OTHERS': array([1344, 1345, 1346, ..., 2685, 2686, 2687]),\n",
       " 'TRAFFIC': array([   0,    1,    2, ..., 1341, 1342, 1343])}"
      ]
     },
     "execution_count": 54,
     "metadata": {},
     "output_type": "execute_result"
    }
   ],
   "source": [
    "groups.indices"
   ]
  },
  {
   "cell_type": "code",
   "execution_count": 55,
   "metadata": {
    "collapsed": false,
    "deletable": true,
    "editable": true
   },
   "outputs": [
    {
     "data": {
      "image/png": "[encoded data removed]",
      "text/plain": [
       "<matplotlib.figure.Figure at 0x10e1e2d30>"
      ]
     },
     "metadata": {},
     "output_type": "display_data"
    }
   ],
   "source": [
    "sns.set_palette(sns.color_palette(\"hls\"))\n",
    "\n",
    "xlabel='numer of items'\n",
    "ylabel='total amount(NTD)'\n",
    "\n",
    "fig, axes = plt.subplots(2,4,figsize=(10,5),sharey=True,sharex=True)\n",
    "fig.suptitle('results')\n",
    "plt.subplots_adjust(hspace=0.5)\n",
    "plt.subplots_adjust(wspace=0.5)\n",
    "\n",
    "\n",
    "for idx, (name, group) in enumerate(groups):\n",
    "    axes.reshape(-1)[idx].plot(group[xlabel], group[ylabel], marker='o', linestyle='', ms=7)\n",
    "    #axes.reshape(-1)[idx].set_xlabel(xlabel)\n",
    "    #axes.reshape(-1)[idx].set_ylabel(ylabel)\n",
    "    axes.reshape(-1)[idx].set_title(name)\n",
    "    \n",
    "plt.tight_layout()\n",
    "plt.show()"
   ]
  },
  {
   "cell_type": "markdown",
   "metadata": {
    "deletable": true,
    "editable": true
   },
   "source": [
    "x軸為消費筆數，y軸為消費價格，斜率大可能表示商品單價貴。教育類貌似有兩種斜率，這有可能代表，於某些城市，教育類的消費較便宜。"
   ]
  },
  {
   "cell_type": "code",
   "execution_count": 56,
   "metadata": {
    "collapsed": false,
    "deletable": true,
    "editable": true
   },
   "outputs": [
    {
     "data": {
      "image/png": "[encoded data removed]",
      "text/plain": [
       "<matplotlib.figure.Figure at 0x10f0a1588>"
      ]
     },
     "metadata": {},
     "output_type": "display_data"
    }
   ],
   "source": [
    "current_palette_7 = sns.color_palette(\"Paired\", 7)\n",
    "sns.set_palette(current_palette_7)\n",
    "\n",
    "xlabel='numer of items'\n",
    "ylabel='total amount(NTD)'\n",
    "\n",
    "fig, ax = plt.subplots(figsize=(10,10))\n",
    "\n",
    "ax.set_xlabel(xlabel)\n",
    "ax.set_ylabel(ylabel)\n",
    "for idx, (name, group) in enumerate(groups):\n",
    "    ax.plot(group[xlabel], group[ylabel], marker='o', linestyle='', ms=7,label=name)\n",
    "\n",
    "plt.ylim((0,2.E8))\n",
    "plt.legend(loc='upper left')\n",
    "plt.show()"
   ]
  },
  {
   "cell_type": "markdown",
   "metadata": {
    "deletable": true,
    "editable": true
   },
   "source": [
    "可推測商品單價前三貴的有文教育樂，旅館住宿，\"其他\"和百貨。另，推測因新竹市人口多，所以於食物類的刷卡比數和金額高於其他縣市(由先前的圖我們已知消費筆數 $>80000$的點是由新竹市貢獻的)。"
   ]
  },
  {
   "cell_type": "code",
   "execution_count": null,
   "metadata": {
    "collapsed": true,
    "deletable": true,
    "editable": true
   },
   "outputs": [],
   "source": []
  }
 ],
 "metadata": {
  "kernelspec": {
   "display_name": "Python 3",
   "language": "python",
   "name": "python3"
  },
  "language_info": {
   "codemirror_mode": {
    "name": "ipython",
    "version": 3
   },
   "file_extension": ".py",
   "mimetype": "text/x-python",
   "name": "python",
   "nbconvert_exporter": "python",
   "pygments_lexer": "ipython3",
   "version": "3.6.0"
  }
 },
 "nbformat": 4,
 "nbformat_minor": 2
}
