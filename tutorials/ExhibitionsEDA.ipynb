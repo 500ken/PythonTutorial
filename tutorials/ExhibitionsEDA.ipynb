{
 "cells": [
  {
   "cell_type": "markdown",
   "metadata": {
    "deletable": true,
    "editable": true
   },
   "source": [
    "# 目的：由會議室使用情況數據集，了解會議室的使用情況。問題：例：於某年某月的時候，會議室有在使用的天數共有幾天？"
   ]
  },
  {
   "cell_type": "markdown",
   "metadata": {
    "deletable": true,
    "editable": true
   },
   "source": [
    "1. <a href= #01>匯入資料</a>\n",
    "2. <a href= #02>檢查部分欄位是否有空值</a>\n",
    "3. <a href= #03>由會議室日期，拓展出\"會議開始日期\"、\"會議結束日期\"和\"會議天數\"三個欄位</a>\n",
    "4. <a href= #04>接著，將欄位\"會議開始日期\"和\"會議結束日期\"轉換成日期型別。轉為日期型別後，兩日期即可相減加一，得出會議天數</a>\n",
    "6. <a href= #05>目標：建立 一資料表包含：活動名稱，活動日 兩個欄位。 最終我們將以此資料表來得出每個月有多少個活動天</a>\n",
    "7. <a href= #06>以年和月做groupby，計算某年某月時，會議室共有幾天有在使用。並畫成長條圖</a>\n",
    "8. <a href= #07>以上資料是離散的x,y,z形式，適合畫成熱圖(heatmap)。以下改把資料以seaborn化成熱圖</a>"
   ]
  },
  {
   "cell_type": "markdown",
   "metadata": {
    "deletable": true,
    "editable": true
   },
   "source": [
    "---"
   ]
  },
  {
   "cell_type": "code",
   "execution_count": 1,
   "metadata": {
    "collapsed": true,
    "deletable": true,
    "editable": true
   },
   "outputs": [],
   "source": [
    "import pandas as pd\n",
    "import re\n",
    "import os\n",
    "import datetime\n",
    "import numpy as np\n",
    "import matplotlib.pyplot as plt\n",
    "import seaborn as sns\n",
    "%matplotlib inline"
   ]
  },
  {
   "cell_type": "markdown",
   "metadata": {
    "deletable": true,
    "editable": true
   },
   "source": [
    "### <a id=\"01\"/> 匯入資料"
   ]
  },
  {
   "cell_type": "code",
   "execution_count": 2,
   "metadata": {
    "collapsed": false,
    "deletable": true,
    "editable": true
   },
   "outputs": [
    {
     "name": "stdout",
     "output_type": "stream",
     "text": [
      "BANK_LOC_ALL_AG.csv       BANK_LOC_ALL_AG_fixed.h5  \u001b[31miris.csv\u001b[m\u001b[m\r\n",
      "BANK_LOC_ALL_AG_fixed.csv exhibition.csv\r\n"
     ]
    }
   ],
   "source": [
    "!ls ../datasets"
   ]
  },
  {
   "cell_type": "code",
   "execution_count": 3,
   "metadata": {
    "collapsed": false,
    "deletable": true,
    "editable": true
   },
   "outputs": [],
   "source": [
    "os.chdir('../datasets')"
   ]
  },
  {
   "cell_type": "code",
   "execution_count": 4,
   "metadata": {
    "collapsed": false,
    "deletable": true,
    "editable": true
   },
   "outputs": [
    {
     "name": "stdout",
     "output_type": "stream",
     "text": [
      "BANK_LOC_ALL_AG.csv       exhibition.csv\r\n",
      "BANK_LOC_ALL_AG_fixed.csv \u001b[31miris.csv\u001b[m\u001b[m\r\n"
     ]
    }
   ],
   "source": [
    "!ls *.csv"
   ]
  },
  {
   "cell_type": "code",
   "execution_count": 5,
   "metadata": {
    "collapsed": false,
    "deletable": true,
    "editable": true
   },
   "outputs": [],
   "source": [
    "df=pd.DataFrame.from_csv(\"exhibition.csv\",encoding='big5',index_col=None)"
   ]
  },
  {
   "cell_type": "code",
   "execution_count": 6,
   "metadata": {
    "collapsed": false,
    "deletable": true,
    "editable": true
   },
   "outputs": [
    {
     "data": {
      "text/html": [
       "<div>\n",
       "<table border=\"1\" class=\"dataframe\">\n",
       "  <thead>\n",
       "    <tr style=\"text-align: right;\">\n",
       "      <th></th>\n",
       "      <th>預約編號</th>\n",
       "      <th>簽約日</th>\n",
       "      <th>活動名稱</th>\n",
       "      <th>活動名稱(英)</th>\n",
       "      <th>會議室</th>\n",
       "      <th>會議室日期</th>\n",
       "      <th>會議室時間</th>\n",
       "      <th>會議室時段數</th>\n",
       "    </tr>\n",
       "  </thead>\n",
       "  <tbody>\n",
       "    <tr>\n",
       "      <th>0</th>\n",
       "      <td>97112201</td>\n",
       "      <td>970916</td>\n",
       "      <td>台灣兒科醫學會第196屆學術演講會</td>\n",
       "      <td>NaN</td>\n",
       "      <td>101</td>\n",
       "      <td>99/12/31-100/01/02</td>\n",
       "      <td>13:30-17:30</td>\n",
       "      <td>1</td>\n",
       "    </tr>\n",
       "    <tr>\n",
       "      <th>1</th>\n",
       "      <td>97012002</td>\n",
       "      <td>970114</td>\n",
       "      <td>97年國運座談會</td>\n",
       "      <td>NaN</td>\n",
       "      <td>101</td>\n",
       "      <td>97/01/20-97/01/23</td>\n",
       "      <td>13:30-17:30</td>\n",
       "      <td>1</td>\n",
       "    </tr>\n",
       "    <tr>\n",
       "      <th>2</th>\n",
       "      <td>97011003</td>\n",
       "      <td>970107</td>\n",
       "      <td>克緹國際經營者會議</td>\n",
       "      <td>NaN</td>\n",
       "      <td>101</td>\n",
       "      <td>97/01/10-97/01/10</td>\n",
       "      <td>11:30-12:30</td>\n",
       "      <td>1</td>\n",
       "    </tr>\n",
       "    <tr>\n",
       "      <th>3</th>\n",
       "      <td>97011003</td>\n",
       "      <td>970107</td>\n",
       "      <td>克緹國際經營者會議</td>\n",
       "      <td>NaN</td>\n",
       "      <td>101</td>\n",
       "      <td>97/03/31-97/04/02</td>\n",
       "      <td>13:30-17:30</td>\n",
       "      <td>1</td>\n",
       "    </tr>\n",
       "    <tr>\n",
       "      <th>4</th>\n",
       "      <td>97010605</td>\n",
       "      <td>970103</td>\n",
       "      <td>幸福台灣大建設-工程界團結造勢大會</td>\n",
       "      <td>NaN</td>\n",
       "      <td>101</td>\n",
       "      <td>97/01/06-97/01/06</td>\n",
       "      <td>08:30-12:30</td>\n",
       "      <td>1</td>\n",
       "    </tr>\n",
       "  </tbody>\n",
       "</table>\n",
       "</div>"
      ],
      "text/plain": [
       "       預約編號     簽約日               活動名稱 活動名稱(英)  會議室               會議室日期  \\\n",
       "0  97112201  970916  台灣兒科醫學會第196屆學術演講會     NaN  101  99/12/31-100/01/02   \n",
       "1  97012002  970114           97年國運座談會     NaN  101   97/01/20-97/01/23   \n",
       "2  97011003  970107          克緹國際經營者會議     NaN  101   97/01/10-97/01/10   \n",
       "3  97011003  970107          克緹國際經營者會議     NaN  101   97/03/31-97/04/02   \n",
       "4  97010605  970103  幸福台灣大建設-工程界團結造勢大會     NaN  101   97/01/06-97/01/06   \n",
       "\n",
       "         會議室時間  會議室時段數  \n",
       "0  13:30-17:30       1  \n",
       "1  13:30-17:30       1  \n",
       "2  11:30-12:30       1  \n",
       "3  13:30-17:30       1  \n",
       "4  08:30-12:30       1  "
      ]
     },
     "execution_count": 6,
     "metadata": {},
     "output_type": "execute_result"
    }
   ],
   "source": [
    "df[:5]"
   ]
  },
  {
   "cell_type": "markdown",
   "metadata": {
    "deletable": true,
    "editable": true
   },
   "source": [
    "### <a id=\"02\"/> 檢查部分欄位是否有空值"
   ]
  },
  {
   "cell_type": "code",
   "execution_count": 7,
   "metadata": {
    "collapsed": false,
    "deletable": true,
    "editable": true
   },
   "outputs": [
    {
     "data": {
      "text/plain": [
       "False"
      ]
     },
     "execution_count": 7,
     "metadata": {},
     "output_type": "execute_result"
    }
   ],
   "source": [
    "True in list(pd.isnull(df['預約編號']))"
   ]
  },
  {
   "cell_type": "code",
   "execution_count": 8,
   "metadata": {
    "collapsed": false,
    "deletable": true,
    "editable": true
   },
   "outputs": [
    {
     "data": {
      "text/plain": [
       "False"
      ]
     },
     "execution_count": 8,
     "metadata": {},
     "output_type": "execute_result"
    }
   ],
   "source": [
    "True in list(pd.isnull(df['會議室日期']))"
   ]
  },
  {
   "cell_type": "code",
   "execution_count": 9,
   "metadata": {
    "collapsed": false,
    "deletable": true,
    "editable": true
   },
   "outputs": [
    {
     "data": {
      "text/plain": [
       "True"
      ]
     },
     "execution_count": 9,
     "metadata": {},
     "output_type": "execute_result"
    }
   ],
   "source": [
    "True in list(pd.isnull(df['活動名稱(英)']))"
   ]
  },
  {
   "cell_type": "code",
   "execution_count": 10,
   "metadata": {
    "collapsed": false,
    "deletable": true,
    "editable": true
   },
   "outputs": [
    {
     "data": {
      "text/html": [
       "<div>\n",
       "<table border=\"1\" class=\"dataframe\">\n",
       "  <thead>\n",
       "    <tr style=\"text-align: right;\">\n",
       "      <th></th>\n",
       "      <th>預約編號</th>\n",
       "      <th>簽約日</th>\n",
       "      <th>活動名稱</th>\n",
       "      <th>活動名稱(英)</th>\n",
       "      <th>會議室</th>\n",
       "      <th>會議室日期</th>\n",
       "      <th>會議室時間</th>\n",
       "      <th>會議室時段數</th>\n",
       "    </tr>\n",
       "  </thead>\n",
       "  <tbody>\n",
       "    <tr>\n",
       "      <th>0</th>\n",
       "      <td>97112201</td>\n",
       "      <td>970916</td>\n",
       "      <td>台灣兒科醫學會第196屆學術演講會</td>\n",
       "      <td>NaN</td>\n",
       "      <td>101</td>\n",
       "      <td>99/12/31-100/01/02</td>\n",
       "      <td>13:30-17:30</td>\n",
       "      <td>1</td>\n",
       "    </tr>\n",
       "    <tr>\n",
       "      <th>1</th>\n",
       "      <td>97012002</td>\n",
       "      <td>970114</td>\n",
       "      <td>97年國運座談會</td>\n",
       "      <td>NaN</td>\n",
       "      <td>101</td>\n",
       "      <td>97/01/20-97/01/23</td>\n",
       "      <td>13:30-17:30</td>\n",
       "      <td>1</td>\n",
       "    </tr>\n",
       "    <tr>\n",
       "      <th>2</th>\n",
       "      <td>97011003</td>\n",
       "      <td>970107</td>\n",
       "      <td>克緹國際經營者會議</td>\n",
       "      <td>NaN</td>\n",
       "      <td>101</td>\n",
       "      <td>97/01/10-97/01/10</td>\n",
       "      <td>11:30-12:30</td>\n",
       "      <td>1</td>\n",
       "    </tr>\n",
       "  </tbody>\n",
       "</table>\n",
       "</div>"
      ],
      "text/plain": [
       "       預約編號     簽約日               活動名稱 活動名稱(英)  會議室               會議室日期  \\\n",
       "0  97112201  970916  台灣兒科醫學會第196屆學術演講會     NaN  101  99/12/31-100/01/02   \n",
       "1  97012002  970114           97年國運座談會     NaN  101   97/01/20-97/01/23   \n",
       "2  97011003  970107          克緹國際經營者會議     NaN  101   97/01/10-97/01/10   \n",
       "\n",
       "         會議室時間  會議室時段數  \n",
       "0  13:30-17:30       1  \n",
       "1  13:30-17:30       1  \n",
       "2  11:30-12:30       1  "
      ]
     },
     "execution_count": 10,
     "metadata": {},
     "output_type": "execute_result"
    }
   ],
   "source": [
    "df.head(3)"
   ]
  },
  {
   "cell_type": "markdown",
   "metadata": {
    "deletable": true,
    "editable": true
   },
   "source": [
    "### <a id=\"03\"/>由會議室日期，拓展出\"會議開始日期\"、\"會議結束日期\"和\"會議天數\"三個欄位"
   ]
  },
  {
   "cell_type": "code",
   "execution_count": 11,
   "metadata": {
    "collapsed": true,
    "deletable": true,
    "editable": true
   },
   "outputs": [],
   "source": [
    "def datePeriodTrans(x):\n",
    "    row=re.search('^(.*)/(.*/.*)-(.*)/(.*/.*)$',x).groups()\n",
    "    return str(int(row[0])+1911)+'/'+row[1],str(int(row[2])+1911)+'/'+row[3]"
   ]
  },
  {
   "cell_type": "code",
   "execution_count": 12,
   "metadata": {
    "collapsed": false,
    "deletable": true,
    "editable": true
   },
   "outputs": [
    {
     "data": {
      "text/plain": [
       "pandas.core.series.Series"
      ]
     },
     "execution_count": 12,
     "metadata": {},
     "output_type": "execute_result"
    }
   ],
   "source": [
    "type(df['會議室日期'])"
   ]
  },
  {
   "cell_type": "code",
   "execution_count": 13,
   "metadata": {
    "collapsed": false,
    "deletable": true,
    "editable": true
   },
   "outputs": [],
   "source": [
    "timeSer=df['會議室日期'].apply(datePeriodTrans)"
   ]
  },
  {
   "cell_type": "code",
   "execution_count": 14,
   "metadata": {
    "collapsed": false,
    "deletable": true,
    "editable": true
   },
   "outputs": [
    {
     "data": {
      "text/plain": [
       "0    (2010/12/31, 2011/01/02)\n",
       "1    (2008/01/20, 2008/01/23)\n",
       "2    (2008/01/10, 2008/01/10)\n",
       "Name: 會議室日期, dtype: object"
      ]
     },
     "execution_count": 14,
     "metadata": {},
     "output_type": "execute_result"
    }
   ],
   "source": [
    "timeSer.head(3)"
   ]
  },
  {
   "cell_type": "code",
   "execution_count": 15,
   "metadata": {
    "collapsed": true,
    "deletable": true,
    "editable": true
   },
   "outputs": [],
   "source": [
    "timeCols=pd.DataFrame(list(timeSer),columns=('會議開始日期','會議結束日期'))"
   ]
  },
  {
   "cell_type": "code",
   "execution_count": 16,
   "metadata": {
    "collapsed": false,
    "deletable": true,
    "editable": true
   },
   "outputs": [
    {
     "data": {
      "text/html": [
       "<div>\n",
       "<table border=\"1\" class=\"dataframe\">\n",
       "  <thead>\n",
       "    <tr style=\"text-align: right;\">\n",
       "      <th></th>\n",
       "      <th>會議開始日期</th>\n",
       "      <th>會議結束日期</th>\n",
       "    </tr>\n",
       "  </thead>\n",
       "  <tbody>\n",
       "    <tr>\n",
       "      <th>0</th>\n",
       "      <td>2010/12/31</td>\n",
       "      <td>2011/01/02</td>\n",
       "    </tr>\n",
       "    <tr>\n",
       "      <th>1</th>\n",
       "      <td>2008/01/20</td>\n",
       "      <td>2008/01/23</td>\n",
       "    </tr>\n",
       "    <tr>\n",
       "      <th>2</th>\n",
       "      <td>2008/01/10</td>\n",
       "      <td>2008/01/10</td>\n",
       "    </tr>\n",
       "  </tbody>\n",
       "</table>\n",
       "</div>"
      ],
      "text/plain": [
       "       會議開始日期      會議結束日期\n",
       "0  2010/12/31  2011/01/02\n",
       "1  2008/01/20  2008/01/23\n",
       "2  2008/01/10  2008/01/10"
      ]
     },
     "execution_count": 16,
     "metadata": {},
     "output_type": "execute_result"
    }
   ],
   "source": [
    "timeCols.head(3)"
   ]
  },
  {
   "cell_type": "code",
   "execution_count": 17,
   "metadata": {
    "collapsed": false,
    "deletable": true,
    "editable": true
   },
   "outputs": [
    {
     "data": {
      "text/plain": [
       "(299, 8)"
      ]
     },
     "execution_count": 17,
     "metadata": {},
     "output_type": "execute_result"
    }
   ],
   "source": [
    "df.shape"
   ]
  },
  {
   "cell_type": "code",
   "execution_count": 18,
   "metadata": {
    "collapsed": false,
    "deletable": true,
    "editable": true
   },
   "outputs": [
    {
     "data": {
      "text/plain": [
       "(299, 2)"
      ]
     },
     "execution_count": 18,
     "metadata": {},
     "output_type": "execute_result"
    }
   ],
   "source": [
    "timeCols.shape"
   ]
  },
  {
   "cell_type": "code",
   "execution_count": 19,
   "metadata": {
    "collapsed": false,
    "deletable": true,
    "editable": true
   },
   "outputs": [],
   "source": [
    "dfDatesAdded=pd.concat([df,timeCols],axis=1)"
   ]
  },
  {
   "cell_type": "code",
   "execution_count": 20,
   "metadata": {
    "collapsed": false,
    "deletable": true,
    "editable": true
   },
   "outputs": [
    {
     "data": {
      "text/html": [
       "<div>\n",
       "<table border=\"1\" class=\"dataframe\">\n",
       "  <thead>\n",
       "    <tr style=\"text-align: right;\">\n",
       "      <th></th>\n",
       "      <th>預約編號</th>\n",
       "      <th>簽約日</th>\n",
       "      <th>活動名稱</th>\n",
       "      <th>活動名稱(英)</th>\n",
       "      <th>會議室</th>\n",
       "      <th>會議室日期</th>\n",
       "      <th>會議室時間</th>\n",
       "      <th>會議室時段數</th>\n",
       "      <th>會議開始日期</th>\n",
       "      <th>會議結束日期</th>\n",
       "    </tr>\n",
       "  </thead>\n",
       "  <tbody>\n",
       "    <tr>\n",
       "      <th>0</th>\n",
       "      <td>97112201</td>\n",
       "      <td>970916</td>\n",
       "      <td>台灣兒科醫學會第196屆學術演講會</td>\n",
       "      <td>NaN</td>\n",
       "      <td>101</td>\n",
       "      <td>99/12/31-100/01/02</td>\n",
       "      <td>13:30-17:30</td>\n",
       "      <td>1</td>\n",
       "      <td>2010/12/31</td>\n",
       "      <td>2011/01/02</td>\n",
       "    </tr>\n",
       "    <tr>\n",
       "      <th>1</th>\n",
       "      <td>97012002</td>\n",
       "      <td>970114</td>\n",
       "      <td>97年國運座談會</td>\n",
       "      <td>NaN</td>\n",
       "      <td>101</td>\n",
       "      <td>97/01/20-97/01/23</td>\n",
       "      <td>13:30-17:30</td>\n",
       "      <td>1</td>\n",
       "      <td>2008/01/20</td>\n",
       "      <td>2008/01/23</td>\n",
       "    </tr>\n",
       "    <tr>\n",
       "      <th>2</th>\n",
       "      <td>97011003</td>\n",
       "      <td>970107</td>\n",
       "      <td>克緹國際經營者會議</td>\n",
       "      <td>NaN</td>\n",
       "      <td>101</td>\n",
       "      <td>97/01/10-97/01/10</td>\n",
       "      <td>11:30-12:30</td>\n",
       "      <td>1</td>\n",
       "      <td>2008/01/10</td>\n",
       "      <td>2008/01/10</td>\n",
       "    </tr>\n",
       "  </tbody>\n",
       "</table>\n",
       "</div>"
      ],
      "text/plain": [
       "       預約編號     簽約日               活動名稱 活動名稱(英)  會議室               會議室日期  \\\n",
       "0  97112201  970916  台灣兒科醫學會第196屆學術演講會     NaN  101  99/12/31-100/01/02   \n",
       "1  97012002  970114           97年國運座談會     NaN  101   97/01/20-97/01/23   \n",
       "2  97011003  970107          克緹國際經營者會議     NaN  101   97/01/10-97/01/10   \n",
       "\n",
       "         會議室時間  會議室時段數      會議開始日期      會議結束日期  \n",
       "0  13:30-17:30       1  2010/12/31  2011/01/02  \n",
       "1  13:30-17:30       1  2008/01/20  2008/01/23  \n",
       "2  11:30-12:30       1  2008/01/10  2008/01/10  "
      ]
     },
     "execution_count": 20,
     "metadata": {},
     "output_type": "execute_result"
    }
   ],
   "source": [
    "dfDatesAdded.head(3)"
   ]
  },
  {
   "cell_type": "markdown",
   "metadata": {
    "deletable": true,
    "editable": true
   },
   "source": [
    "### <a id=\"04\"/>接著，將欄位\"會議開始日期\"和\"會議結束日期\"轉換成日期型別。轉為日期型別後，兩日期即可相減加一，得出會議天數"
   ]
  },
  {
   "cell_type": "code",
   "execution_count": 21,
   "metadata": {
    "collapsed": false,
    "deletable": true,
    "editable": true
   },
   "outputs": [
    {
     "data": {
      "text/plain": [
       "預約編號        int64\n",
       "簽約日         int64\n",
       "活動名稱       object\n",
       "活動名稱(英)    object\n",
       "會議室         int64\n",
       "會議室日期      object\n",
       "會議室時間      object\n",
       "會議室時段數      int64\n",
       "會議開始日期     object\n",
       "會議結束日期     object\n",
       "dtype: object"
      ]
     },
     "execution_count": 21,
     "metadata": {},
     "output_type": "execute_result"
    }
   ],
   "source": [
    "dfDatesAdded.dtypes"
   ]
  },
  {
   "cell_type": "code",
   "execution_count": 22,
   "metadata": {
    "collapsed": false,
    "deletable": true,
    "editable": true
   },
   "outputs": [],
   "source": [
    "dfDatesAdded['會議開始日期'] = pd.to_datetime(dfDatesAdded['會議開始日期'],yearfirst=True)\n",
    "dfDatesAdded['會議結束日期'] = pd.to_datetime(dfDatesAdded['會議結束日期'],yearfirst=True)"
   ]
  },
  {
   "cell_type": "code",
   "execution_count": 23,
   "metadata": {
    "collapsed": false,
    "deletable": true,
    "editable": true
   },
   "outputs": [
    {
     "data": {
      "text/plain": [
       "預約編號                int64\n",
       "簽約日                 int64\n",
       "活動名稱               object\n",
       "活動名稱(英)            object\n",
       "會議室                 int64\n",
       "會議室日期              object\n",
       "會議室時間              object\n",
       "會議室時段數              int64\n",
       "會議開始日期     datetime64[ns]\n",
       "會議結束日期     datetime64[ns]\n",
       "dtype: object"
      ]
     },
     "execution_count": 23,
     "metadata": {},
     "output_type": "execute_result"
    }
   ],
   "source": [
    "dfDatesAdded.dtypes"
   ]
  },
  {
   "cell_type": "code",
   "execution_count": 24,
   "metadata": {
    "collapsed": false,
    "deletable": true,
    "editable": true
   },
   "outputs": [
    {
     "data": {
      "text/plain": [
       "Timestamp('2010-12-31 00:00:00')"
      ]
     },
     "execution_count": 24,
     "metadata": {},
     "output_type": "execute_result"
    }
   ],
   "source": [
    "dfDatesAdded.loc[0,'會議開始日期']"
   ]
  },
  {
   "cell_type": "code",
   "execution_count": 25,
   "metadata": {
    "collapsed": false,
    "deletable": true,
    "editable": true
   },
   "outputs": [
    {
     "data": {
      "text/plain": [
       "True"
      ]
     },
     "execution_count": 25,
     "metadata": {},
     "output_type": "execute_result"
    }
   ],
   "source": [
    "dfDatesAdded.loc[0,'會議開始日期']-dfDatesAdded.loc[0,'會議結束日期']== datetime.timedelta(-2)"
   ]
  },
  {
   "cell_type": "code",
   "execution_count": 26,
   "metadata": {
    "collapsed": false,
    "deletable": true,
    "editable": true
   },
   "outputs": [],
   "source": [
    "dfDatesAdded['會議天數'] = dfDatesAdded['會議結束日期']-dfDatesAdded['會議開始日期']+datetime.timedelta(1)"
   ]
  },
  {
   "cell_type": "code",
   "execution_count": 27,
   "metadata": {
    "collapsed": false,
    "deletable": true,
    "editable": true
   },
   "outputs": [
    {
     "data": {
      "text/plain": [
       "預約編號                 100041503\n",
       "簽約日                    1000124\n",
       "活動名稱           第19屆台灣精品金質獎頒獎典禮\n",
       "活動名稱(英)                    NaN\n",
       "會議室                        101\n",
       "會議室日期      100/04/14-100/04/14\n",
       "會議室時間              13:30-17:30\n",
       "會議室時段數                       1\n",
       "會議開始日期     2011-04-14 00:00:00\n",
       "會議結束日期     2011-04-14 00:00:00\n",
       "會議天數           1 days 00:00:00\n",
       "Name: 295, dtype: object"
      ]
     },
     "execution_count": 27,
     "metadata": {},
     "output_type": "execute_result"
    }
   ],
   "source": [
    "dfDatesAdded.iloc[295,:]"
   ]
  },
  {
   "cell_type": "code",
   "execution_count": 28,
   "metadata": {
    "collapsed": false,
    "deletable": true,
    "editable": true
   },
   "outputs": [
    {
     "data": {
      "text/html": [
       "<div>\n",
       "<table border=\"1\" class=\"dataframe\">\n",
       "  <thead>\n",
       "    <tr style=\"text-align: right;\">\n",
       "      <th></th>\n",
       "      <th>預約編號</th>\n",
       "      <th>簽約日</th>\n",
       "      <th>活動名稱</th>\n",
       "      <th>活動名稱(英)</th>\n",
       "      <th>會議室</th>\n",
       "      <th>會議室日期</th>\n",
       "      <th>會議室時間</th>\n",
       "      <th>會議室時段數</th>\n",
       "      <th>會議開始日期</th>\n",
       "      <th>會議結束日期</th>\n",
       "      <th>會議天數</th>\n",
       "    </tr>\n",
       "  </thead>\n",
       "  <tbody>\n",
       "    <tr>\n",
       "      <th>281</th>\n",
       "      <td>100042502</td>\n",
       "      <td>1000425</td>\n",
       "      <td>大師論壇系列-「跨越百年再造榮景」高峰會</td>\n",
       "      <td>NaN</td>\n",
       "      <td>101</td>\n",
       "      <td>100/12/15-100/12/15</td>\n",
       "      <td>08:30-17:30</td>\n",
       "      <td>2</td>\n",
       "      <td>2011-12-15</td>\n",
       "      <td>2011-12-15</td>\n",
       "      <td>1 days</td>\n",
       "    </tr>\n",
       "    <tr>\n",
       "      <th>282</th>\n",
       "      <td>100042502</td>\n",
       "      <td>1000425</td>\n",
       "      <td>大師論壇系列-「跨越百年再造榮景」高峰會</td>\n",
       "      <td>NaN</td>\n",
       "      <td>101</td>\n",
       "      <td>100/12/15-100/12/15</td>\n",
       "      <td>18:30-22:30</td>\n",
       "      <td>1</td>\n",
       "      <td>2011-12-15</td>\n",
       "      <td>2011-12-15</td>\n",
       "      <td>1 days</td>\n",
       "    </tr>\n",
       "    <tr>\n",
       "      <th>283</th>\n",
       "      <td>100041601</td>\n",
       "      <td>1000221</td>\n",
       "      <td>和平曙光-有機純素化解全球危機</td>\n",
       "      <td>NaN</td>\n",
       "      <td>101</td>\n",
       "      <td>100/04/16-100/04/16</td>\n",
       "      <td>13:30-17:30</td>\n",
       "      <td>1</td>\n",
       "      <td>2011-04-16</td>\n",
       "      <td>2011-04-16</td>\n",
       "      <td>1 days</td>\n",
       "    </tr>\n",
       "    <tr>\n",
       "      <th>284</th>\n",
       "      <td>100031502</td>\n",
       "      <td>1000215</td>\n",
       "      <td>召開股東會及董事會應注意事項研討會</td>\n",
       "      <td>NaN</td>\n",
       "      <td>101</td>\n",
       "      <td>100/03/15-100/03/15</td>\n",
       "      <td>13:30-17:30</td>\n",
       "      <td>1</td>\n",
       "      <td>2011-03-15</td>\n",
       "      <td>2011-03-15</td>\n",
       "      <td>1 days</td>\n",
       "    </tr>\n",
       "  </tbody>\n",
       "</table>\n",
       "</div>"
      ],
      "text/plain": [
       "          預約編號      簽約日                  活動名稱 活動名稱(英)  會議室  \\\n",
       "281  100042502  1000425  大師論壇系列-「跨越百年再造榮景」高峰會     NaN  101   \n",
       "282  100042502  1000425  大師論壇系列-「跨越百年再造榮景」高峰會     NaN  101   \n",
       "283  100041601  1000221       和平曙光-有機純素化解全球危機     NaN  101   \n",
       "284  100031502  1000215     召開股東會及董事會應注意事項研討會     NaN  101   \n",
       "\n",
       "                   會議室日期        會議室時間  會議室時段數     會議開始日期     會議結束日期   會議天數  \n",
       "281  100/12/15-100/12/15  08:30-17:30       2 2011-12-15 2011-12-15 1 days  \n",
       "282  100/12/15-100/12/15  18:30-22:30       1 2011-12-15 2011-12-15 1 days  \n",
       "283  100/04/16-100/04/16  13:30-17:30       1 2011-04-16 2011-04-16 1 days  \n",
       "284  100/03/15-100/03/15  13:30-17:30       1 2011-03-15 2011-03-15 1 days  "
      ]
     },
     "execution_count": 28,
     "metadata": {},
     "output_type": "execute_result"
    }
   ],
   "source": [
    "dfDatesAdded.iloc[281:285,:]"
   ]
  },
  {
   "cell_type": "code",
   "execution_count": 29,
   "metadata": {
    "collapsed": false,
    "deletable": true,
    "editable": true
   },
   "outputs": [
    {
     "data": {
      "text/plain": [
       "預約編號                 100090301\n",
       "簽約日                    1000506\n",
       "活動名稱                千年古佛畫古雕國際展\n",
       "活動名稱(英)                    NaN\n",
       "會議室                        101\n",
       "會議室日期      100/09/03-100/09/05\n",
       "會議室時間              08:30-17:30\n",
       "會議室時段數                       6\n",
       "會議開始日期     2011-09-03 00:00:00\n",
       "會議結束日期     2011-09-05 00:00:00\n",
       "會議天數           3 days 00:00:00\n",
       "Name: 288, dtype: object"
      ]
     },
     "execution_count": 29,
     "metadata": {},
     "output_type": "execute_result"
    }
   ],
   "source": [
    "dfDatesAdded.iloc[288,:]"
   ]
  },
  {
   "cell_type": "code",
   "execution_count": 30,
   "metadata": {
    "collapsed": false,
    "deletable": true,
    "editable": true
   },
   "outputs": [],
   "source": [
    "d=dfDatesAdded.loc[288,'會議天數']"
   ]
  },
  {
   "cell_type": "code",
   "execution_count": 31,
   "metadata": {
    "collapsed": false,
    "deletable": true,
    "editable": true
   },
   "outputs": [
    {
     "data": {
      "text/plain": [
       "3"
      ]
     },
     "execution_count": 31,
     "metadata": {},
     "output_type": "execute_result"
    }
   ],
   "source": [
    "d.days"
   ]
  },
  {
   "cell_type": "code",
   "execution_count": 32,
   "metadata": {
    "collapsed": false,
    "deletable": true,
    "editable": true
   },
   "outputs": [],
   "source": [
    "times = pd.date_range(dfDatesAdded.loc[288,'會議開始日期'], periods=dfDatesAdded.loc[288,'會議天數'].days, freq='D')"
   ]
  },
  {
   "cell_type": "code",
   "execution_count": 33,
   "metadata": {
    "collapsed": false,
    "deletable": true,
    "editable": true
   },
   "outputs": [
    {
     "data": {
      "text/plain": [
       "DatetimeIndex(['2011-09-03', '2011-09-04', '2011-09-05'], dtype='datetime64[ns]', freq='D')"
      ]
     },
     "execution_count": 33,
     "metadata": {},
     "output_type": "execute_result"
    }
   ],
   "source": [
    "times"
   ]
  },
  {
   "cell_type": "code",
   "execution_count": 34,
   "metadata": {
    "collapsed": false,
    "deletable": true,
    "editable": true
   },
   "outputs": [
    {
     "data": {
      "text/plain": [
       "[Timestamp('2011-09-03 00:00:00', freq='D'),\n",
       " Timestamp('2011-09-04 00:00:00', freq='D'),\n",
       " Timestamp('2011-09-05 00:00:00', freq='D')]"
      ]
     },
     "execution_count": 34,
     "metadata": {},
     "output_type": "execute_result"
    }
   ],
   "source": [
    "list(times)"
   ]
  },
  {
   "cell_type": "markdown",
   "metadata": {
    "deletable": true,
    "editable": true
   },
   "source": [
    "### <a id=\"05\"/> 目標：建立 一資料表包含：活動名稱，活動日 兩個欄位。 最終我們將以此資料表來得出每個月有多少個活動天"
   ]
  },
  {
   "cell_type": "code",
   "execution_count": 35,
   "metadata": {
    "collapsed": true,
    "deletable": true,
    "editable": true
   },
   "outputs": [],
   "source": [
    "def tgen(row):\n",
    "    times=pd.date_range(row['會議開始日期'], periods=row['會議天數'].days, freq='D')\n",
    "    row['dates']=times\n",
    "    return row"
   ]
  },
  {
   "cell_type": "code",
   "execution_count": 36,
   "metadata": {
    "collapsed": false,
    "deletable": true,
    "editable": true
   },
   "outputs": [],
   "source": [
    "dfDatesAdded=dfDatesAdded.apply(tgen,axis=1)"
   ]
  },
  {
   "cell_type": "code",
   "execution_count": 37,
   "metadata": {
    "collapsed": false,
    "deletable": true,
    "editable": true
   },
   "outputs": [
    {
     "data": {
      "text/html": [
       "<div>\n",
       "<table border=\"1\" class=\"dataframe\">\n",
       "  <thead>\n",
       "    <tr style=\"text-align: right;\">\n",
       "      <th></th>\n",
       "      <th>預約編號</th>\n",
       "      <th>簽約日</th>\n",
       "      <th>活動名稱</th>\n",
       "      <th>活動名稱(英)</th>\n",
       "      <th>會議室</th>\n",
       "      <th>會議室日期</th>\n",
       "      <th>會議室時間</th>\n",
       "      <th>會議室時段數</th>\n",
       "      <th>會議開始日期</th>\n",
       "      <th>會議結束日期</th>\n",
       "      <th>會議天數</th>\n",
       "      <th>dates</th>\n",
       "    </tr>\n",
       "  </thead>\n",
       "  <tbody>\n",
       "    <tr>\n",
       "      <th>0</th>\n",
       "      <td>97112201</td>\n",
       "      <td>970916</td>\n",
       "      <td>台灣兒科醫學會第196屆學術演講會</td>\n",
       "      <td>NaN</td>\n",
       "      <td>101</td>\n",
       "      <td>99/12/31-100/01/02</td>\n",
       "      <td>13:30-17:30</td>\n",
       "      <td>1</td>\n",
       "      <td>2010-12-31</td>\n",
       "      <td>2011-01-02</td>\n",
       "      <td>3 days</td>\n",
       "      <td>DatetimeIndex(['2010-12-31', '2011-01-01', '20...</td>\n",
       "    </tr>\n",
       "    <tr>\n",
       "      <th>1</th>\n",
       "      <td>97012002</td>\n",
       "      <td>970114</td>\n",
       "      <td>97年國運座談會</td>\n",
       "      <td>NaN</td>\n",
       "      <td>101</td>\n",
       "      <td>97/01/20-97/01/23</td>\n",
       "      <td>13:30-17:30</td>\n",
       "      <td>1</td>\n",
       "      <td>2008-01-20</td>\n",
       "      <td>2008-01-23</td>\n",
       "      <td>4 days</td>\n",
       "      <td>DatetimeIndex(['2008-01-20', '2008-01-21', '20...</td>\n",
       "    </tr>\n",
       "    <tr>\n",
       "      <th>2</th>\n",
       "      <td>97011003</td>\n",
       "      <td>970107</td>\n",
       "      <td>克緹國際經營者會議</td>\n",
       "      <td>NaN</td>\n",
       "      <td>101</td>\n",
       "      <td>97/01/10-97/01/10</td>\n",
       "      <td>11:30-12:30</td>\n",
       "      <td>1</td>\n",
       "      <td>2008-01-10</td>\n",
       "      <td>2008-01-10</td>\n",
       "      <td>1 days</td>\n",
       "      <td>DatetimeIndex(['2008-01-10'], dtype='datetime6...</td>\n",
       "    </tr>\n",
       "  </tbody>\n",
       "</table>\n",
       "</div>"
      ],
      "text/plain": [
       "       預約編號     簽約日               活動名稱 活動名稱(英)  會議室               會議室日期  \\\n",
       "0  97112201  970916  台灣兒科醫學會第196屆學術演講會     NaN  101  99/12/31-100/01/02   \n",
       "1  97012002  970114           97年國運座談會     NaN  101   97/01/20-97/01/23   \n",
       "2  97011003  970107          克緹國際經營者會議     NaN  101   97/01/10-97/01/10   \n",
       "\n",
       "         會議室時間  會議室時段數     會議開始日期     會議結束日期   會議天數  \\\n",
       "0  13:30-17:30       1 2010-12-31 2011-01-02 3 days   \n",
       "1  13:30-17:30       1 2008-01-20 2008-01-23 4 days   \n",
       "2  11:30-12:30       1 2008-01-10 2008-01-10 1 days   \n",
       "\n",
       "                                               dates  \n",
       "0  DatetimeIndex(['2010-12-31', '2011-01-01', '20...  \n",
       "1  DatetimeIndex(['2008-01-20', '2008-01-21', '20...  \n",
       "2  DatetimeIndex(['2008-01-10'], dtype='datetime6...  "
      ]
     },
     "execution_count": 37,
     "metadata": {},
     "output_type": "execute_result"
    }
   ],
   "source": [
    "dfDatesAdded.head(3)"
   ]
  },
  {
   "cell_type": "code",
   "execution_count": 38,
   "metadata": {
    "collapsed": false,
    "deletable": true,
    "editable": true
   },
   "outputs": [],
   "source": [
    "infoList=list(dfDatesAdded[['活動名稱','dates']].values)"
   ]
  },
  {
   "cell_type": "code",
   "execution_count": 39,
   "metadata": {
    "collapsed": false,
    "deletable": true,
    "editable": true
   },
   "outputs": [
    {
     "data": {
      "text/plain": [
       "[array(['台灣兒科醫學會第196屆學術演講會',\n",
       "        DatetimeIndex(['2010-12-31', '2011-01-01', '2011-01-02'], dtype='datetime64[ns]', freq='D')], dtype=object)]"
      ]
     },
     "execution_count": 39,
     "metadata": {},
     "output_type": "execute_result"
    }
   ],
   "source": [
    "infoList[:1]"
   ]
  },
  {
   "cell_type": "code",
   "execution_count": 40,
   "metadata": {
    "collapsed": false,
    "deletable": true,
    "editable": true
   },
   "outputs": [],
   "source": [
    "mylist=[]\n",
    "for row in infoList:\n",
    "    for date in row[1]:\n",
    "        mylist.append((row[0],date))"
   ]
  },
  {
   "cell_type": "code",
   "execution_count": 41,
   "metadata": {
    "collapsed": false,
    "deletable": true,
    "editable": true
   },
   "outputs": [],
   "source": [
    "df=pd.DataFrame(mylist,columns=['title','date'])"
   ]
  },
  {
   "cell_type": "code",
   "execution_count": 42,
   "metadata": {
    "collapsed": false,
    "deletable": true,
    "editable": true
   },
   "outputs": [],
   "source": [
    "df=df.sort_values(by='date')"
   ]
  },
  {
   "cell_type": "code",
   "execution_count": 43,
   "metadata": {
    "collapsed": false,
    "deletable": true,
    "editable": true
   },
   "outputs": [
    {
     "data": {
      "text/html": [
       "<div>\n",
       "<table border=\"1\" class=\"dataframe\">\n",
       "  <thead>\n",
       "    <tr style=\"text-align: right;\">\n",
       "      <th></th>\n",
       "      <th>title</th>\n",
       "      <th>date</th>\n",
       "    </tr>\n",
       "  </thead>\n",
       "  <tbody>\n",
       "    <tr>\n",
       "      <th>190</th>\n",
       "      <td>安麗公司韓國海外旅遊行前說明會</td>\n",
       "      <td>2007-01-10</td>\n",
       "    </tr>\n",
       "    <tr>\n",
       "      <th>191</th>\n",
       "      <td>安麗公司韓國海外旅遊行前說明會</td>\n",
       "      <td>2007-01-10</td>\n",
       "    </tr>\n",
       "    <tr>\n",
       "      <th>24</th>\n",
       "      <td>元大證券集團95年度年終經營檢討會</td>\n",
       "      <td>2007-01-13</td>\n",
       "    </tr>\n",
       "  </tbody>\n",
       "</table>\n",
       "</div>"
      ],
      "text/plain": [
       "                 title       date\n",
       "190    安麗公司韓國海外旅遊行前說明會 2007-01-10\n",
       "191    安麗公司韓國海外旅遊行前說明會 2007-01-10\n",
       "24   元大證券集團95年度年終經營檢討會 2007-01-13"
      ]
     },
     "execution_count": 43,
     "metadata": {},
     "output_type": "execute_result"
    }
   ],
   "source": [
    "df.head(3)"
   ]
  },
  {
   "cell_type": "code",
   "execution_count": 44,
   "metadata": {
    "collapsed": false,
    "deletable": true,
    "editable": true
   },
   "outputs": [],
   "source": [
    "df['year']=df.date.apply(lambda x:x.year)"
   ]
  },
  {
   "cell_type": "code",
   "execution_count": 45,
   "metadata": {
    "collapsed": false,
    "deletable": true,
    "editable": true
   },
   "outputs": [],
   "source": [
    "df['month']=df.date.apply(lambda x:x.month)"
   ]
  },
  {
   "cell_type": "code",
   "execution_count": 46,
   "metadata": {
    "collapsed": false,
    "deletable": true,
    "editable": true
   },
   "outputs": [
    {
     "data": {
      "text/html": [
       "<div>\n",
       "<table border=\"1\" class=\"dataframe\">\n",
       "  <thead>\n",
       "    <tr style=\"text-align: right;\">\n",
       "      <th></th>\n",
       "      <th>title</th>\n",
       "      <th>date</th>\n",
       "      <th>year</th>\n",
       "      <th>month</th>\n",
       "    </tr>\n",
       "  </thead>\n",
       "  <tbody>\n",
       "    <tr>\n",
       "      <th>190</th>\n",
       "      <td>安麗公司韓國海外旅遊行前說明會</td>\n",
       "      <td>2007-01-10</td>\n",
       "      <td>2007</td>\n",
       "      <td>1</td>\n",
       "    </tr>\n",
       "    <tr>\n",
       "      <th>191</th>\n",
       "      <td>安麗公司韓國海外旅遊行前說明會</td>\n",
       "      <td>2007-01-10</td>\n",
       "      <td>2007</td>\n",
       "      <td>1</td>\n",
       "    </tr>\n",
       "    <tr>\n",
       "      <th>24</th>\n",
       "      <td>元大證券集團95年度年終經營檢討會</td>\n",
       "      <td>2007-01-13</td>\n",
       "      <td>2007</td>\n",
       "      <td>1</td>\n",
       "    </tr>\n",
       "  </tbody>\n",
       "</table>\n",
       "</div>"
      ],
      "text/plain": [
       "                 title       date  year  month\n",
       "190    安麗公司韓國海外旅遊行前說明會 2007-01-10  2007      1\n",
       "191    安麗公司韓國海外旅遊行前說明會 2007-01-10  2007      1\n",
       "24   元大證券集團95年度年終經營檢討會 2007-01-13  2007      1"
      ]
     },
     "execution_count": 46,
     "metadata": {},
     "output_type": "execute_result"
    }
   ],
   "source": [
    "df.head(3)"
   ]
  },
  {
   "cell_type": "code",
   "execution_count": 47,
   "metadata": {
    "collapsed": false,
    "deletable": true,
    "editable": true
   },
   "outputs": [
    {
     "data": {
      "text/plain": [
       "(326, 4)"
      ]
     },
     "execution_count": 47,
     "metadata": {},
     "output_type": "execute_result"
    }
   ],
   "source": [
    "df.shape"
   ]
  },
  {
   "cell_type": "code",
   "execution_count": 48,
   "metadata": {
    "collapsed": false,
    "deletable": true,
    "editable": true
   },
   "outputs": [],
   "source": [
    "df=df.drop_duplicates('date')"
   ]
  },
  {
   "cell_type": "code",
   "execution_count": 49,
   "metadata": {
    "collapsed": false,
    "deletable": true,
    "editable": true
   },
   "outputs": [
    {
     "data": {
      "text/plain": [
       "(237, 4)"
      ]
     },
     "execution_count": 49,
     "metadata": {},
     "output_type": "execute_result"
    }
   ],
   "source": [
    "df.shape"
   ]
  },
  {
   "cell_type": "markdown",
   "metadata": {
    "deletable": true,
    "editable": true
   },
   "source": [
    "### <a id=\"06\"/>以年和月做groupby，計算某年某月時，會議室共有幾天有在使用。並畫成長條圖。"
   ]
  },
  {
   "cell_type": "code",
   "execution_count": 50,
   "metadata": {
    "collapsed": false,
    "deletable": true,
    "editable": true
   },
   "outputs": [],
   "source": [
    "grouped=df[['title','year','month']].groupby(['year','month'])"
   ]
  },
  {
   "cell_type": "code",
   "execution_count": 51,
   "metadata": {
    "collapsed": false,
    "deletable": true,
    "editable": true
   },
   "outputs": [],
   "source": [
    "cnt=grouped.count()"
   ]
  },
  {
   "cell_type": "code",
   "execution_count": 52,
   "metadata": {
    "collapsed": false,
    "deletable": true,
    "editable": true
   },
   "outputs": [],
   "source": [
    "cnt.columns=['number of days with activities']"
   ]
  },
  {
   "cell_type": "code",
   "execution_count": 53,
   "metadata": {
    "collapsed": false,
    "deletable": true,
    "editable": true
   },
   "outputs": [
    {
     "data": {
      "text/plain": [
       "<matplotlib.axes._subplots.AxesSubplot at 0x115196198>"
      ]
     },
     "execution_count": 53,
     "metadata": {},
     "output_type": "execute_result"
    },
    {
     "data": {
      "image/png": "[encoded data removed]",
      "text/plain": [
       "<matplotlib.figure.Figure at 0x11514eef0>"
      ]
     },
     "metadata": {},
     "output_type": "display_data"
    }
   ],
   "source": [
    "cnt.plot.bar(figsize=(15,5))"
   ]
  },
  {
   "cell_type": "markdown",
   "metadata": {
    "collapsed": true,
    "deletable": true,
    "editable": true
   },
   "source": [
    "### <a id=\"07\"/>以上資料是離散的x,y,z形式，適合畫成熱圖(heatmap)。以下改把資料以seaborn化成熱圖"
   ]
  },
  {
   "cell_type": "code",
   "execution_count": 54,
   "metadata": {
    "collapsed": false,
    "deletable": true,
    "editable": true
   },
   "outputs": [
    {
     "data": {
      "text/html": [
       "<div>\n",
       "<table border=\"1\" class=\"dataframe\">\n",
       "  <thead>\n",
       "    <tr style=\"text-align: right;\">\n",
       "      <th></th>\n",
       "      <th></th>\n",
       "      <th>number of days with activities</th>\n",
       "    </tr>\n",
       "    <tr>\n",
       "      <th>year</th>\n",
       "      <th>month</th>\n",
       "      <th></th>\n",
       "    </tr>\n",
       "  </thead>\n",
       "  <tbody>\n",
       "    <tr>\n",
       "      <th rowspan=\"3\" valign=\"top\">2007</th>\n",
       "      <th>1</th>\n",
       "      <td>5</td>\n",
       "    </tr>\n",
       "    <tr>\n",
       "      <th>2</th>\n",
       "      <td>2</td>\n",
       "    </tr>\n",
       "    <tr>\n",
       "      <th>3</th>\n",
       "      <td>3</td>\n",
       "    </tr>\n",
       "  </tbody>\n",
       "</table>\n",
       "</div>"
      ],
      "text/plain": [
       "            number of days with activities\n",
       "year month                                \n",
       "2007 1                                   5\n",
       "     2                                   2\n",
       "     3                                   3"
      ]
     },
     "execution_count": 54,
     "metadata": {},
     "output_type": "execute_result"
    }
   ],
   "source": [
    "cnt[:3]"
   ]
  },
  {
   "cell_type": "code",
   "execution_count": 55,
   "metadata": {
    "collapsed": false,
    "deletable": true,
    "editable": true
   },
   "outputs": [
    {
     "data": {
      "text/html": [
       "<div>\n",
       "<table border=\"1\" class=\"dataframe\">\n",
       "  <thead>\n",
       "    <tr>\n",
       "      <th>year</th>\n",
       "      <th colspan=\"6\" halign=\"left\">2007</th>\n",
       "      <th colspan=\"4\" halign=\"left\">2008</th>\n",
       "      <th>...</th>\n",
       "      <th colspan=\"3\" halign=\"left\">2010</th>\n",
       "      <th colspan=\"7\" halign=\"left\">2011</th>\n",
       "    </tr>\n",
       "    <tr>\n",
       "      <th>month</th>\n",
       "      <th>1</th>\n",
       "      <th>2</th>\n",
       "      <th>3</th>\n",
       "      <th>4</th>\n",
       "      <th>7</th>\n",
       "      <th>10</th>\n",
       "      <th>1</th>\n",
       "      <th>3</th>\n",
       "      <th>4</th>\n",
       "      <th>7</th>\n",
       "      <th>...</th>\n",
       "      <th>10</th>\n",
       "      <th>11</th>\n",
       "      <th>12</th>\n",
       "      <th>1</th>\n",
       "      <th>3</th>\n",
       "      <th>4</th>\n",
       "      <th>9</th>\n",
       "      <th>10</th>\n",
       "      <th>11</th>\n",
       "      <th>12</th>\n",
       "    </tr>\n",
       "  </thead>\n",
       "  <tbody>\n",
       "    <tr>\n",
       "      <th>number of days with activities</th>\n",
       "      <td>5</td>\n",
       "      <td>2</td>\n",
       "      <td>3</td>\n",
       "      <td>3</td>\n",
       "      <td>1</td>\n",
       "      <td>3</td>\n",
       "      <td>6</td>\n",
       "      <td>3</td>\n",
       "      <td>2</td>\n",
       "      <td>1</td>\n",
       "      <td>...</td>\n",
       "      <td>8</td>\n",
       "      <td>4</td>\n",
       "      <td>12</td>\n",
       "      <td>10</td>\n",
       "      <td>15</td>\n",
       "      <td>6</td>\n",
       "      <td>4</td>\n",
       "      <td>2</td>\n",
       "      <td>3</td>\n",
       "      <td>2</td>\n",
       "    </tr>\n",
       "  </tbody>\n",
       "</table>\n",
       "<p>1 rows × 39 columns</p>\n",
       "</div>"
      ],
      "text/plain": [
       "year                           2007                2008          ... 2010     \\\n",
       "month                            1  2  3  4  7  10   1  3  4  7  ...   10 11   \n",
       "number of days with activities    5  2  3  3  1  3    6  3  2  1 ...    8  4   \n",
       "\n",
       "year                               2011                     \n",
       "month                           12   1   3  4  9  10 11 12  \n",
       "number of days with activities  12   10  15  6  4  2  3  2  \n",
       "\n",
       "[1 rows x 39 columns]"
      ]
     },
     "execution_count": 55,
     "metadata": {},
     "output_type": "execute_result"
    }
   ],
   "source": [
    "cnt.T"
   ]
  },
  {
   "cell_type": "code",
   "execution_count": 56,
   "metadata": {
    "collapsed": false,
    "deletable": true,
    "editable": true
   },
   "outputs": [],
   "source": [
    "dat=cnt.T.stack()"
   ]
  },
  {
   "cell_type": "code",
   "execution_count": 57,
   "metadata": {
    "collapsed": false,
    "deletable": true,
    "editable": true
   },
   "outputs": [],
   "source": [
    "dat=dat.loc['number of days with activities']"
   ]
  },
  {
   "cell_type": "code",
   "execution_count": 58,
   "metadata": {
    "collapsed": false,
    "deletable": true,
    "editable": true
   },
   "outputs": [
    {
     "data": {
      "image/png": "[encoded data removed]",
      "text/plain": [
       "<matplotlib.figure.Figure at 0x1150de9b0>"
      ]
     },
     "metadata": {},
     "output_type": "display_data"
    }
   ],
   "source": [
    "sns.palplot(sns.cubehelix_palette(8, start=.5, rot=-.75))"
   ]
  },
  {
   "cell_type": "code",
   "execution_count": 59,
   "metadata": {
    "collapsed": false,
    "deletable": true,
    "editable": true
   },
   "outputs": [
    {
     "data": {
      "text/html": [
       "<div>\n",
       "<table border=\"1\" class=\"dataframe\">\n",
       "  <thead>\n",
       "    <tr style=\"text-align: right;\">\n",
       "      <th>month</th>\n",
       "      <th>1</th>\n",
       "      <th>2</th>\n",
       "      <th>3</th>\n",
       "      <th>4</th>\n",
       "      <th>5</th>\n",
       "      <th>6</th>\n",
       "      <th>7</th>\n",
       "      <th>8</th>\n",
       "      <th>9</th>\n",
       "      <th>10</th>\n",
       "      <th>11</th>\n",
       "      <th>12</th>\n",
       "    </tr>\n",
       "    <tr>\n",
       "      <th>year</th>\n",
       "      <th></th>\n",
       "      <th></th>\n",
       "      <th></th>\n",
       "      <th></th>\n",
       "      <th></th>\n",
       "      <th></th>\n",
       "      <th></th>\n",
       "      <th></th>\n",
       "      <th></th>\n",
       "      <th></th>\n",
       "      <th></th>\n",
       "      <th></th>\n",
       "    </tr>\n",
       "  </thead>\n",
       "  <tbody>\n",
       "    <tr>\n",
       "      <th>2007</th>\n",
       "      <td>5.0</td>\n",
       "      <td>2.0</td>\n",
       "      <td>3.0</td>\n",
       "      <td>3.0</td>\n",
       "      <td>NaN</td>\n",
       "      <td>NaN</td>\n",
       "      <td>1.0</td>\n",
       "      <td>NaN</td>\n",
       "      <td>NaN</td>\n",
       "      <td>3.0</td>\n",
       "      <td>NaN</td>\n",
       "      <td>NaN</td>\n",
       "    </tr>\n",
       "    <tr>\n",
       "      <th>2008</th>\n",
       "      <td>6.0</td>\n",
       "      <td>NaN</td>\n",
       "      <td>3.0</td>\n",
       "      <td>2.0</td>\n",
       "      <td>NaN</td>\n",
       "      <td>NaN</td>\n",
       "      <td>1.0</td>\n",
       "      <td>NaN</td>\n",
       "      <td>NaN</td>\n",
       "      <td>NaN</td>\n",
       "      <td>3.0</td>\n",
       "      <td>2.0</td>\n",
       "    </tr>\n",
       "    <tr>\n",
       "      <th>2009</th>\n",
       "      <td>NaN</td>\n",
       "      <td>NaN</td>\n",
       "      <td>NaN</td>\n",
       "      <td>1.0</td>\n",
       "      <td>1.0</td>\n",
       "      <td>NaN</td>\n",
       "      <td>6.0</td>\n",
       "      <td>9.0</td>\n",
       "      <td>5.0</td>\n",
       "      <td>14.0</td>\n",
       "      <td>14.0</td>\n",
       "      <td>8.0</td>\n",
       "    </tr>\n",
       "    <tr>\n",
       "      <th>2010</th>\n",
       "      <td>9.0</td>\n",
       "      <td>3.0</td>\n",
       "      <td>11.0</td>\n",
       "      <td>15.0</td>\n",
       "      <td>9.0</td>\n",
       "      <td>8.0</td>\n",
       "      <td>6.0</td>\n",
       "      <td>11.0</td>\n",
       "      <td>7.0</td>\n",
       "      <td>8.0</td>\n",
       "      <td>4.0</td>\n",
       "      <td>12.0</td>\n",
       "    </tr>\n",
       "    <tr>\n",
       "      <th>2011</th>\n",
       "      <td>10.0</td>\n",
       "      <td>NaN</td>\n",
       "      <td>15.0</td>\n",
       "      <td>6.0</td>\n",
       "      <td>NaN</td>\n",
       "      <td>NaN</td>\n",
       "      <td>NaN</td>\n",
       "      <td>NaN</td>\n",
       "      <td>4.0</td>\n",
       "      <td>2.0</td>\n",
       "      <td>3.0</td>\n",
       "      <td>2.0</td>\n",
       "    </tr>\n",
       "  </tbody>\n",
       "</table>\n",
       "</div>"
      ],
      "text/plain": [
       "month    1    2     3     4    5    6    7     8    9     10    11    12\n",
       "year                                                                    \n",
       "2007    5.0  2.0   3.0   3.0  NaN  NaN  1.0   NaN  NaN   3.0   NaN   NaN\n",
       "2008    6.0  NaN   3.0   2.0  NaN  NaN  1.0   NaN  NaN   NaN   3.0   2.0\n",
       "2009    NaN  NaN   NaN   1.0  1.0  NaN  6.0   9.0  5.0  14.0  14.0   8.0\n",
       "2010    9.0  3.0  11.0  15.0  9.0  8.0  6.0  11.0  7.0   8.0   4.0  12.0\n",
       "2011   10.0  NaN  15.0   6.0  NaN  NaN  NaN   NaN  4.0   2.0   3.0   2.0"
      ]
     },
     "execution_count": 59,
     "metadata": {},
     "output_type": "execute_result"
    }
   ],
   "source": [
    "dat.T"
   ]
  },
  {
   "cell_type": "code",
   "execution_count": 60,
   "metadata": {
    "collapsed": false,
    "deletable": true,
    "editable": true
   },
   "outputs": [],
   "source": [
    "s=sns.cubehelix_palette(8, start=.5, rot=-.75,as_cmap=True)"
   ]
  },
  {
   "cell_type": "code",
   "execution_count": 61,
   "metadata": {
    "collapsed": false,
    "deletable": true,
    "editable": true
   },
   "outputs": [
    {
     "data": {
      "image/png": "[encoded data removed]",
      "text/plain": [
       "<matplotlib.figure.Figure at 0x1150e67b8>"
      ]
     },
     "metadata": {},
     "output_type": "display_data"
    }
   ],
   "source": [
    "fig,ax=plt.subplots(figsize=(10,10))\n",
    "ax = sns.heatmap(dat.T,cmap=s,square=True,cbar_kws={\"orientation\": \"horizontal\"})"
   ]
  },
  {
   "cell_type": "code",
   "execution_count": null,
   "metadata": {
    "collapsed": true,
    "deletable": true,
    "editable": true
   },
   "outputs": [],
   "source": []
  }
 ],
 "metadata": {
  "kernelspec": {
   "display_name": "Python 3",
   "language": "python",
   "name": "python3"
  },
  "language_info": {
   "codemirror_mode": {
    "name": "ipython",
    "version": 3
   },
   "file_extension": ".py",
   "mimetype": "text/x-python",
   "name": "python",
   "nbconvert_exporter": "python",
   "pygments_lexer": "ipython3",
   "version": "3.6.0"
  }
 },
 "nbformat": 4,
 "nbformat_minor": 2
}
