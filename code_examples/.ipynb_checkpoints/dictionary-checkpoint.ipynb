{
 "cells": [
  {
   "cell_type": "markdown",
   "metadata": {
    "collapsed": true,
    "deletable": true,
    "editable": true
   },
   "source": [
    "### 字典(dictionary)"
   ]
  },
  {
   "cell_type": "code",
   "execution_count": 2,
   "metadata": {
    "collapsed": true,
    "deletable": true,
    "editable": true
   },
   "outputs": [],
   "source": [
    "adjs={'affordable': 1,\n",
    " 'comfortable': -1,\n",
    " 'comparable': 1,\n",
    " 'different': 1,\n",
    " 'disappointed': 1,\n",
    " 'fantastic': 1,\n",
    " 'good': 8,\n",
    " 'great': 15,\n",
    " 'happy': 1,\n",
    " 'inexpensive': 1,\n",
    " 'low': 2,\n",
    " 'nice': 1,\n",
    " 'reasonable': 9,\n",
    " 'same': 2,\n",
    " 'small': 1,\n",
    " 'willing': 1}"
   ]
  },
  {
   "cell_type": "markdown",
   "metadata": {
    "deletable": true,
    "editable": true
   },
   "source": [
    "#### 看key \"good\" 對應到的value是什麼"
   ]
  },
  {
   "cell_type": "code",
   "execution_count": 2,
   "metadata": {
    "collapsed": false,
    "deletable": true,
    "editable": true
   },
   "outputs": [
    {
     "data": {
      "text/plain": [
       "8"
      ]
     },
     "execution_count": 2,
     "metadata": {},
     "output_type": "execute_result"
    }
   ],
   "source": [
    "adjs['good']"
   ]
  },
  {
   "cell_type": "markdown",
   "metadata": {
    "deletable": true,
    "editable": true
   },
   "source": [
    "檢查字典是否屬於可疊代物件"
   ]
  },
  {
   "cell_type": "code",
   "execution_count": 4,
   "metadata": {
    "collapsed": false,
    "deletable": true,
    "editable": true
   },
   "outputs": [
    {
     "data": {
      "text/plain": [
       "True"
      ]
     },
     "execution_count": 4,
     "metadata": {},
     "output_type": "execute_result"
    }
   ],
   "source": [
    "hasattr(adjs,'__iter__')"
   ]
  },
  {
   "cell_type": "markdown",
   "metadata": {
    "deletable": true,
    "editable": true
   },
   "source": [
    "字典可疊代，我們可以用for迴圈來把key抓出來："
   ]
  },
  {
   "cell_type": "code",
   "execution_count": 5,
   "metadata": {
    "collapsed": false,
    "deletable": true,
    "editable": true
   },
   "outputs": [
    {
     "name": "stdout",
     "output_type": "stream",
     "text": [
      "affordable\n",
      "comfortable\n",
      "comparable\n",
      "different\n",
      "disappointed\n",
      "fantastic\n",
      "good\n",
      "great\n",
      "happy\n",
      "inexpensive\n",
      "low\n",
      "nice\n",
      "reasonable\n",
      "same\n",
      "small\n",
      "willing\n"
     ]
    }
   ],
   "source": [
    "for adj in adjs:\n",
    "    print(adj)"
   ]
  },
  {
   "cell_type": "markdown",
   "metadata": {
    "deletable": true,
    "editable": true
   },
   "source": [
    "可以順便看與該key相對應的value為何："
   ]
  },
  {
   "cell_type": "code",
   "execution_count": 6,
   "metadata": {
    "collapsed": false,
    "deletable": true,
    "editable": true
   },
   "outputs": [
    {
     "name": "stdout",
     "output_type": "stream",
     "text": [
      "affordable 1\n",
      "comfortable -1\n",
      "comparable 1\n",
      "different 1\n",
      "disappointed 1\n",
      "fantastic 1\n",
      "good 8\n",
      "great 15\n",
      "happy 1\n",
      "inexpensive 1\n",
      "low 2\n",
      "nice 1\n",
      "reasonable 9\n",
      "same 2\n",
      "small 1\n",
      "willing 1\n"
     ]
    }
   ],
   "source": [
    "for adj in adjs:\n",
    "    print(adj,adjs[adj])"
   ]
  },
  {
   "cell_type": "markdown",
   "metadata": {
    "deletable": true,
    "editable": true
   },
   "source": [
    "用del 將key \"small\" 刪除："
   ]
  },
  {
   "cell_type": "code",
   "execution_count": 12,
   "metadata": {
    "collapsed": true,
    "deletable": true,
    "editable": true
   },
   "outputs": [],
   "source": [
    "del adjs['small']"
   ]
  },
  {
   "cell_type": "code",
   "execution_count": 13,
   "metadata": {
    "collapsed": false,
    "deletable": true,
    "editable": true
   },
   "outputs": [
    {
     "data": {
      "text/plain": [
       "{'affordable': 1,\n",
       " 'comfortable': -1,\n",
       " 'comparable': 1,\n",
       " 'different': 1,\n",
       " 'disappointed': 1,\n",
       " 'fantastic': 1,\n",
       " 'good': 8,\n",
       " 'great': 15,\n",
       " 'happy': 1,\n",
       " 'inexpensive': 1,\n",
       " 'low': 2,\n",
       " 'nice': 1,\n",
       " 'reasonable': 9,\n",
       " 'same': 2,\n",
       " 'willing': 1}"
      ]
     },
     "execution_count": 13,
     "metadata": {},
     "output_type": "execute_result"
    }
   ],
   "source": [
    "adjs"
   ]
  },
  {
   "cell_type": "markdown",
   "metadata": {
    "deletable": true,
    "editable": true
   },
   "source": [
    "增加一個key叫做 'huge'"
   ]
  },
  {
   "cell_type": "code",
   "execution_count": 14,
   "metadata": {
    "collapsed": true,
    "deletable": true,
    "editable": true
   },
   "outputs": [],
   "source": [
    "adjs['huge']=30"
   ]
  },
  {
   "cell_type": "code",
   "execution_count": 16,
   "metadata": {
    "collapsed": false,
    "deletable": true,
    "editable": true
   },
   "outputs": [
    {
     "data": {
      "text/plain": [
       "{'affordable': 1,\n",
       " 'comfortable': -1,\n",
       " 'comparable': 1,\n",
       " 'different': 1,\n",
       " 'disappointed': 1,\n",
       " 'fantastic': 1,\n",
       " 'good': 8,\n",
       " 'great': 15,\n",
       " 'happy': 1,\n",
       " 'inexpensive': 1,\n",
       " 'low': 2,\n",
       " 'nice': 1,\n",
       " 'reasonable': 9,\n",
       " 'same': 2,\n",
       " 'small': 1,\n",
       " 'willing': 1}"
      ]
     },
     "execution_count": 16,
     "metadata": {},
     "output_type": "execute_result"
    }
   ],
   "source": [
    "adjs"
   ]
  },
  {
   "cell_type": "markdown",
   "metadata": {
    "deletable": true,
    "editable": true
   },
   "source": [
    "以update()增加多個key:"
   ]
  },
  {
   "cell_type": "code",
   "execution_count": 23,
   "metadata": {
    "collapsed": true,
    "deletable": true,
    "editable": true
   },
   "outputs": [],
   "source": [
    "adjs.update({'terrible': 30, 'miserable': 30})"
   ]
  },
  {
   "cell_type": "code",
   "execution_count": 24,
   "metadata": {
    "collapsed": false,
    "deletable": true,
    "editable": true
   },
   "outputs": [
    {
     "data": {
      "text/plain": [
       "dict_items([('affordable', 1), ('comfortable', -1), ('comparable', 1), ('different', 1), ('disappointed', 1), ('fantastic', 1), ('good', 8), ('great', 15), ('happy', 1), ('inexpensive', 1), ('low', 2), ('nice', 1), ('reasonable', 9), ('same', 2), ('small', 1), ('willing', 1), ('terrible', 30), ('miserable', 30)])"
      ]
     },
     "execution_count": 24,
     "metadata": {},
     "output_type": "execute_result"
    }
   ],
   "source": [
    "adjs.items()"
   ]
  },
  {
   "cell_type": "code",
   "execution_count": 27,
   "metadata": {
    "collapsed": false,
    "deletable": true,
    "editable": true
   },
   "outputs": [
    {
     "data": {
      "text/plain": [
       "dict_keys(['affordable', 'comfortable', 'comparable', 'different', 'disappointed', 'fantastic', 'good', 'great', 'happy', 'inexpensive', 'low', 'nice', 'reasonable', 'same', 'willing', 'huge'])"
      ]
     },
     "execution_count": 27,
     "metadata": {},
     "output_type": "execute_result"
    }
   ],
   "source": [
    "adjs.keys()"
   ]
  },
  {
   "cell_type": "code",
   "execution_count": 8,
   "metadata": {
    "collapsed": false,
    "deletable": true,
    "editable": true
   },
   "outputs": [
    {
     "data": {
      "text/plain": [
       "dict_values([1, -1, 1, 1, 1, 1, 8, 15, 1, 1, 2, 1, 9, 2, 1, 1])"
      ]
     },
     "execution_count": 8,
     "metadata": {},
     "output_type": "execute_result"
    }
   ],
   "source": [
    "adjs.values()"
   ]
  },
  {
   "cell_type": "markdown",
   "metadata": {
    "deletable": true,
    "editable": true
   },
   "source": [
    "以上dict_items, dict_keys, dict_values可轉型為list。例如："
   ]
  },
  {
   "cell_type": "code",
   "execution_count": 9,
   "metadata": {
    "collapsed": false,
    "deletable": true,
    "editable": true
   },
   "outputs": [
    {
     "data": {
      "text/plain": [
       "[1, -1, 1, 1, 1, 1, 8, 15, 1, 1, 2, 1, 9, 2, 1, 1]"
      ]
     },
     "execution_count": 9,
     "metadata": {},
     "output_type": "execute_result"
    }
   ],
   "source": [
    "list( adjs.values() )"
   ]
  },
  {
   "cell_type": "markdown",
   "metadata": {
    "deletable": true,
    "editable": true
   },
   "source": [
    "但若無必要則不需轉成list，因為轉成list會造成記憶體的浪費。"
   ]
  }
 ],
 "metadata": {
  "kernelspec": {
   "display_name": "Python 2",
   "language": "python",
   "name": "python2"
  },
  "language_info": {
   "codemirror_mode": {
    "name": "ipython",
    "version": 2
   },
   "file_extension": ".py",
   "mimetype": "text/x-python",
   "name": "python",
   "nbconvert_exporter": "python",
   "pygments_lexer": "ipython2",
   "version": "2.7.13"
  }
 },
 "nbformat": 4,
 "nbformat_minor": 0
}
